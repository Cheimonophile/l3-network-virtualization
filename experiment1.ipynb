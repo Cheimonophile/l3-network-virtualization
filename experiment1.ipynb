{
 "cells": [
  {
   "cell_type": "markdown",
   "metadata": {},
   "source": [
    "# Experiment 1"
   ]
  },
  {
   "cell_type": "markdown",
   "metadata": {},
   "source": [
    "### Environment Setup"
   ]
  },
  {
   "cell_type": "code",
   "execution_count": 1,
   "metadata": {},
   "outputs": [
    {
     "name": "stdout",
     "output_type": "stream",
     "text": [
      "/home/fabric/work\n"
     ]
    }
   ],
   "source": [
    "%%bash -s\n",
    "\n",
    "# set root folder and get environment\n",
    "export root=\"/home/fabric/work\"\n",
    "source $root/env\n",
    "pwd"
   ]
  },
  {
   "cell_type": "code",
   "execution_count": 2,
   "metadata": {},
   "outputs": [
    {
     "data": {
      "text/html": [
       "<style type=\"text/css\">\n",
       "#T_17026 tr:nth-child(even) {\n",
       "  background: #dbf3ff;\n",
       "  color: #231f20;\n",
       "}\n",
       "#T_17026 tr:nth-child(odd) {\n",
       "  background: #ffffff;\n",
       "  color: #231f20;\n",
       "}\n",
       "#T_17026 caption {\n",
       "  text-align: center;\n",
       "  font-size: 150%;\n",
       "}\n",
       "#T_17026_row0_col0, #T_17026_row0_col1, #T_17026_row1_col0, #T_17026_row1_col1, #T_17026_row2_col0, #T_17026_row2_col1, #T_17026_row3_col0, #T_17026_row3_col1, #T_17026_row4_col0, #T_17026_row4_col1, #T_17026_row5_col0, #T_17026_row5_col1, #T_17026_row6_col0, #T_17026_row6_col1, #T_17026_row7_col0, #T_17026_row7_col1, #T_17026_row8_col0, #T_17026_row8_col1, #T_17026_row9_col0, #T_17026_row9_col1, #T_17026_row10_col0, #T_17026_row10_col1, #T_17026_row11_col0, #T_17026_row11_col1, #T_17026_row12_col0, #T_17026_row12_col1 {\n",
       "  text-align: left;\n",
       "  border: 1px #231f20 solid !important;\n",
       "  overwrite: False;\n",
       "}\n",
       "</style>\n",
       "<table id=\"T_17026\">\n",
       "  <caption>FABlib Config</caption>\n",
       "  <thead>\n",
       "  </thead>\n",
       "  <tbody>\n",
       "    <tr>\n",
       "      <td id=\"T_17026_row0_col0\" class=\"data row0 col0\" >credmgr_host</td>\n",
       "      <td id=\"T_17026_row0_col1\" class=\"data row0 col1\" >cm.fabric-testbed.net</td>\n",
       "    </tr>\n",
       "    <tr>\n",
       "      <td id=\"T_17026_row1_col0\" class=\"data row1 col0\" >orchestrator_host</td>\n",
       "      <td id=\"T_17026_row1_col1\" class=\"data row1 col1\" >orchestrator.fabric-testbed.net</td>\n",
       "    </tr>\n",
       "    <tr>\n",
       "      <td id=\"T_17026_row2_col0\" class=\"data row2 col0\" >fabric_token</td>\n",
       "      <td id=\"T_17026_row2_col1\" class=\"data row2 col1\" >/home/fabric/.tokens.json</td>\n",
       "    </tr>\n",
       "    <tr>\n",
       "      <td id=\"T_17026_row3_col0\" class=\"data row3 col0\" >project_id</td>\n",
       "      <td id=\"T_17026_row3_col1\" class=\"data row3 col1\" >6ce270de-788d-4e07-8bae-3206860a6387</td>\n",
       "    </tr>\n",
       "    <tr>\n",
       "      <td id=\"T_17026_row4_col0\" class=\"data row4 col0\" >bastion_username</td>\n",
       "      <td id=\"T_17026_row4_col1\" class=\"data row4 col1\" >brmclemo_0000026977</td>\n",
       "    </tr>\n",
       "    <tr>\n",
       "      <td id=\"T_17026_row5_col0\" class=\"data row5 col0\" >bastion_key_filename</td>\n",
       "      <td id=\"T_17026_row5_col1\" class=\"data row5 col1\" >/home/fabric/work/ssh/fabric-bastion</td>\n",
       "    </tr>\n",
       "    <tr>\n",
       "      <td id=\"T_17026_row6_col0\" class=\"data row6 col0\" >bastion_public_addr</td>\n",
       "      <td id=\"T_17026_row6_col1\" class=\"data row6 col1\" >bastion-1.fabric-testbed.net</td>\n",
       "    </tr>\n",
       "    <tr>\n",
       "      <td id=\"T_17026_row7_col0\" class=\"data row7 col0\" >bastion_passphrase</td>\n",
       "      <td id=\"T_17026_row7_col1\" class=\"data row7 col1\" >None</td>\n",
       "    </tr>\n",
       "    <tr>\n",
       "      <td id=\"T_17026_row8_col0\" class=\"data row8 col0\" >slice_public_key_file</td>\n",
       "      <td id=\"T_17026_row8_col1\" class=\"data row8 col1\" >/home/fabric/work/ssh/fabric-sliver.pub</td>\n",
       "    </tr>\n",
       "    <tr>\n",
       "      <td id=\"T_17026_row9_col0\" class=\"data row9 col0\" >slice_private_key_file</td>\n",
       "      <td id=\"T_17026_row9_col1\" class=\"data row9 col1\" >/home/fabric/work/ssh/fabric-sliver</td>\n",
       "    </tr>\n",
       "    <tr>\n",
       "      <td id=\"T_17026_row10_col0\" class=\"data row10 col0\" >fabric_slice_private_key_passphrase</td>\n",
       "      <td id=\"T_17026_row10_col1\" class=\"data row10 col1\" >None</td>\n",
       "    </tr>\n",
       "    <tr>\n",
       "      <td id=\"T_17026_row11_col0\" class=\"data row11 col0\" >fablib_log_file</td>\n",
       "      <td id=\"T_17026_row11_col1\" class=\"data row11 col1\" >/tmp/fablib/fablib.log</td>\n",
       "    </tr>\n",
       "    <tr>\n",
       "      <td id=\"T_17026_row12_col0\" class=\"data row12 col0\" >fablib_log_level</td>\n",
       "      <td id=\"T_17026_row12_col1\" class=\"data row12 col1\" >INFO</td>\n",
       "    </tr>\n",
       "  </tbody>\n",
       "</table>\n"
      ],
      "text/plain": [
       "<pandas.io.formats.style.Styler at 0x7f7522120d60>"
      ]
     },
     "metadata": {},
     "output_type": "display_data"
    },
    {
     "name": "stdout",
     "output_type": "stream",
     "text": [
      "server_site='CLEM', client_site='FIU'\n"
     ]
    }
   ],
   "source": [
    "# imports\n",
    "import os\n",
    "import json\n",
    "import traceback\n",
    "from fabrictestbed_extensions.fablib.fablib import FablibManager as fablib_manager\n",
    "from fabrictestbed_extensions.fablib.node import Node\n",
    "from threading import Thread\n",
    "from ipaddress import ip_address, IPv4Address, IPv6Address, IPv4Network, IPv6Network\n",
    "import uuid\n",
    "from collections import defaultdict\n",
    "\n",
    "# show fablib config\n",
    "fablib = fablib_manager()             \n",
    "fablib.show_config()\n",
    "\n",
    "# constants\n",
    "root = \"/home/fabric/work\"\n",
    "\n",
    "# component names\n",
    "slice_name = \"experiment-1\"\n",
    "server_site, client_site = fablib.get_random_sites(count=2, avoid=['AL2S','STAR', 'MAX'])\n",
    "print(f\"{server_site=}, {client_site=}\")\n",
    "\n",
    "# switch detail\n",
    "client_switch_name = \"client-switch\"\n",
    "server_switch_name = \"server-switch\"\n",
    "switch_cores = 2\n",
    "switch_ram = 8\n",
    "switch_disk = 100\n",
    "\n",
    "# host details\n",
    "client_host_name = \"client-host\"\n",
    "server_host_name = \"server-host\"\n",
    "image = 'default_ubuntu_20'\n",
    "server_host_subnet=IPv4Network('10.0.1.0/24')\n",
    "server_host_addr=IPv4Address('10.0.1.1')\n",
    "client_host_subnet=IPv4Network('10.0.2.0/24')\n",
    "client_host_addr=IPv4Address('10.0.2.2')\n",
    "\n",
    "# network details\n",
    "net_server_switch_name = \"net-server-switch\"\n",
    "net_client_switch_name = \"net-client-switch\"\n",
    "net_switch_switch_name = \"net-switch-switch\""
   ]
  },
  {
   "cell_type": "code",
   "execution_count": 3,
   "metadata": {},
   "outputs": [],
   "source": [
    "# some helper functions\n",
    "__id_counter = defaultdict(int)\n",
    "def id(name=None):\n",
    "  global __id_counter\n",
    "  __id_counter[name] += 1\n",
    "  return f\"{name}-{str(__id_counter[name]).zfill(4)}\""
   ]
  },
  {
   "cell_type": "markdown",
   "metadata": {},
   "source": [
    "## Setup Network"
   ]
  },
  {
   "cell_type": "code",
   "execution_count": 4,
   "metadata": {},
   "outputs": [
    {
     "name": "stdout",
     "output_type": "stream",
     "text": [
      "\n",
      "Retry: 9, Time: 236 sec\n"
     ]
    },
    {
     "data": {
      "text/html": [
       "<style type=\"text/css\">\n",
       "#T_83531 tr:nth-child(even) {\n",
       "  background: #dbf3ff;\n",
       "  color: #231f20;\n",
       "}\n",
       "#T_83531 tr:nth-child(odd) {\n",
       "  background: #ffffff;\n",
       "  color: #231f20;\n",
       "}\n",
       "#T_83531 caption {\n",
       "  text-align: center;\n",
       "  font-size: 150%;\n",
       "}\n",
       "#T_83531_row0_col0, #T_83531_row0_col1, #T_83531_row1_col0, #T_83531_row1_col1, #T_83531_row2_col0, #T_83531_row2_col1, #T_83531_row3_col0, #T_83531_row3_col1, #T_83531_row4_col0, #T_83531_row4_col1, #T_83531_row5_col0 {\n",
       "  text-align: left;\n",
       "  border: 1px #231f20 solid !important;\n",
       "  overwrite: False;\n",
       "  background-color: ;\n",
       "}\n",
       "#T_83531_row5_col1 {\n",
       "  text-align: left;\n",
       "  border: 1px #231f20 solid !important;\n",
       "  overwrite: False;\n",
       "  background-color: #c3ffc4;\n",
       "}\n",
       "</style>\n",
       "<table id=\"T_83531\">\n",
       "  <caption>Slice</caption>\n",
       "  <thead>\n",
       "  </thead>\n",
       "  <tbody>\n",
       "    <tr>\n",
       "      <td id=\"T_83531_row0_col0\" class=\"data row0 col0\" >ID</td>\n",
       "      <td id=\"T_83531_row0_col1\" class=\"data row0 col1\" >30d4616c-8d8b-4532-baf0-e24082f65242</td>\n",
       "    </tr>\n",
       "    <tr>\n",
       "      <td id=\"T_83531_row1_col0\" class=\"data row1 col0\" >Name</td>\n",
       "      <td id=\"T_83531_row1_col1\" class=\"data row1 col1\" >experiment-1</td>\n",
       "    </tr>\n",
       "    <tr>\n",
       "      <td id=\"T_83531_row2_col0\" class=\"data row2 col0\" >Lease Expiration (UTC)</td>\n",
       "      <td id=\"T_83531_row2_col1\" class=\"data row2 col1\" >2022-11-14 18:17:45 +0000</td>\n",
       "    </tr>\n",
       "    <tr>\n",
       "      <td id=\"T_83531_row3_col0\" class=\"data row3 col0\" >Lease Start (UTC)</td>\n",
       "      <td id=\"T_83531_row3_col1\" class=\"data row3 col1\" >2022-11-13 18:17:46 +0000</td>\n",
       "    </tr>\n",
       "    <tr>\n",
       "      <td id=\"T_83531_row4_col0\" class=\"data row4 col0\" >Project ID</td>\n",
       "      <td id=\"T_83531_row4_col1\" class=\"data row4 col1\" >6ce270de-788d-4e07-8bae-3206860a6387</td>\n",
       "    </tr>\n",
       "    <tr>\n",
       "      <td id=\"T_83531_row5_col0\" class=\"data row5 col0\" >State</td>\n",
       "      <td id=\"T_83531_row5_col1\" class=\"data row5 col1\" >StableOK</td>\n",
       "    </tr>\n",
       "  </tbody>\n",
       "</table>\n"
      ],
      "text/plain": [
       "<pandas.io.formats.style.Styler at 0x7f75106e7e80>"
      ]
     },
     "metadata": {},
     "output_type": "display_data"
    },
    {
     "data": {
      "text/html": [
       "<style type=\"text/css\">\n",
       "#T_e5c91 caption {\n",
       "  text-align: center;\n",
       "  font-size: 150%;\n",
       "  caption-side: top;\n",
       "}\n",
       "#T_e5c91 th {\n",
       "  text-align: left;\n",
       "}\n",
       "#T_e5c91 tr:nth-child(even) {\n",
       "  background: #dbf3ff;\n",
       "  color: #231f20;\n",
       "}\n",
       "#T_e5c91 tr:nth-child(odd) {\n",
       "  background: #ffffff;\n",
       "  color: #231f20;\n",
       "}\n",
       "#T_e5c91 .level0 {\n",
       "  border: 1px black solid !important;\n",
       "}\n",
       "#T_e5c91_row0_col0, #T_e5c91_row0_col1, #T_e5c91_row0_col2, #T_e5c91_row0_col3, #T_e5c91_row0_col4, #T_e5c91_row0_col5, #T_e5c91_row0_col6, #T_e5c91_row0_col7, #T_e5c91_row0_col8, #T_e5c91_row1_col0, #T_e5c91_row1_col1, #T_e5c91_row1_col2, #T_e5c91_row1_col3, #T_e5c91_row1_col4, #T_e5c91_row1_col5, #T_e5c91_row1_col6, #T_e5c91_row1_col7, #T_e5c91_row1_col8, #T_e5c91_row2_col0, #T_e5c91_row2_col1, #T_e5c91_row2_col2, #T_e5c91_row2_col3, #T_e5c91_row2_col4, #T_e5c91_row2_col5, #T_e5c91_row2_col6, #T_e5c91_row2_col7, #T_e5c91_row2_col8, #T_e5c91_row3_col0, #T_e5c91_row3_col1, #T_e5c91_row3_col2, #T_e5c91_row3_col3, #T_e5c91_row3_col4, #T_e5c91_row3_col5, #T_e5c91_row3_col6, #T_e5c91_row3_col7, #T_e5c91_row3_col8 {\n",
       "  text-align: left;\n",
       "  border: 1px #231f20 solid !important;\n",
       "  overwrite: False;\n",
       "}\n",
       "#T_e5c91_row0_col9, #T_e5c91_row1_col9, #T_e5c91_row2_col9, #T_e5c91_row3_col9 {\n",
       "  text-align: left;\n",
       "  border: 1px #231f20 solid !important;\n",
       "  overwrite: False;\n",
       "  background-color: #c3ffc4;\n",
       "}\n",
       "#T_e5c91_row0_col10, #T_e5c91_row1_col10, #T_e5c91_row2_col10, #T_e5c91_row3_col10 {\n",
       "  text-align: left;\n",
       "  border: 1px #231f20 solid !important;\n",
       "  overwrite: False;\n",
       "  background-color: ;\n",
       "}\n",
       "</style>\n",
       "<table id=\"T_e5c91\">\n",
       "  <caption>Nodes</caption>\n",
       "  <thead>\n",
       "    <tr>\n",
       "      <th id=\"T_e5c91_level0_col0\" class=\"col_heading level0 col0\" >ID</th>\n",
       "      <th id=\"T_e5c91_level0_col1\" class=\"col_heading level0 col1\" >Name</th>\n",
       "      <th id=\"T_e5c91_level0_col2\" class=\"col_heading level0 col2\" >Site</th>\n",
       "      <th id=\"T_e5c91_level0_col3\" class=\"col_heading level0 col3\" >Host</th>\n",
       "      <th id=\"T_e5c91_level0_col4\" class=\"col_heading level0 col4\" >Cores</th>\n",
       "      <th id=\"T_e5c91_level0_col5\" class=\"col_heading level0 col5\" >RAM</th>\n",
       "      <th id=\"T_e5c91_level0_col6\" class=\"col_heading level0 col6\" >Disk</th>\n",
       "      <th id=\"T_e5c91_level0_col7\" class=\"col_heading level0 col7\" >Image</th>\n",
       "      <th id=\"T_e5c91_level0_col8\" class=\"col_heading level0 col8\" >Management IP</th>\n",
       "      <th id=\"T_e5c91_level0_col9\" class=\"col_heading level0 col9\" >State</th>\n",
       "      <th id=\"T_e5c91_level0_col10\" class=\"col_heading level0 col10\" >Error</th>\n",
       "    </tr>\n",
       "  </thead>\n",
       "  <tbody>\n",
       "    <tr>\n",
       "      <td id=\"T_e5c91_row0_col0\" class=\"data row0 col0\" >3f5130f8-d8f4-4198-bbaa-7df10c45975c</td>\n",
       "      <td id=\"T_e5c91_row0_col1\" class=\"data row0 col1\" >server-switch</td>\n",
       "      <td id=\"T_e5c91_row0_col2\" class=\"data row0 col2\" >CLEM</td>\n",
       "      <td id=\"T_e5c91_row0_col3\" class=\"data row0 col3\" >clem-w2.fabric-testbed.net</td>\n",
       "      <td id=\"T_e5c91_row0_col4\" class=\"data row0 col4\" >2</td>\n",
       "      <td id=\"T_e5c91_row0_col5\" class=\"data row0 col5\" >8</td>\n",
       "      <td id=\"T_e5c91_row0_col6\" class=\"data row0 col6\" >10</td>\n",
       "      <td id=\"T_e5c91_row0_col7\" class=\"data row0 col7\" >default_ubuntu_20</td>\n",
       "      <td id=\"T_e5c91_row0_col8\" class=\"data row0 col8\" >2620:103:a006:12:f816:3eff:feb7:971f</td>\n",
       "      <td id=\"T_e5c91_row0_col9\" class=\"data row0 col9\" >Active</td>\n",
       "      <td id=\"T_e5c91_row0_col10\" class=\"data row0 col10\" ></td>\n",
       "    </tr>\n",
       "    <tr>\n",
       "      <td id=\"T_e5c91_row1_col0\" class=\"data row1 col0\" >b278cd1f-90e8-4964-a90a-78a19027e2ef</td>\n",
       "      <td id=\"T_e5c91_row1_col1\" class=\"data row1 col1\" >client-switch</td>\n",
       "      <td id=\"T_e5c91_row1_col2\" class=\"data row1 col2\" >FIU</td>\n",
       "      <td id=\"T_e5c91_row1_col3\" class=\"data row1 col3\" >fiu-w4.fabric-testbed.net</td>\n",
       "      <td id=\"T_e5c91_row1_col4\" class=\"data row1 col4\" >2</td>\n",
       "      <td id=\"T_e5c91_row1_col5\" class=\"data row1 col5\" >8</td>\n",
       "      <td id=\"T_e5c91_row1_col6\" class=\"data row1 col6\" >10</td>\n",
       "      <td id=\"T_e5c91_row1_col7\" class=\"data row1 col7\" >default_ubuntu_20</td>\n",
       "      <td id=\"T_e5c91_row1_col8\" class=\"data row1 col8\" >131.94.57.28</td>\n",
       "      <td id=\"T_e5c91_row1_col9\" class=\"data row1 col9\" >Active</td>\n",
       "      <td id=\"T_e5c91_row1_col10\" class=\"data row1 col10\" ></td>\n",
       "    </tr>\n",
       "    <tr>\n",
       "      <td id=\"T_e5c91_row2_col0\" class=\"data row2 col0\" >2673e051-0198-487c-92fc-b23a70468749</td>\n",
       "      <td id=\"T_e5c91_row2_col1\" class=\"data row2 col1\" >server-host</td>\n",
       "      <td id=\"T_e5c91_row2_col2\" class=\"data row2 col2\" >CLEM</td>\n",
       "      <td id=\"T_e5c91_row2_col3\" class=\"data row2 col3\" >clem-w2.fabric-testbed.net</td>\n",
       "      <td id=\"T_e5c91_row2_col4\" class=\"data row2 col4\" >2</td>\n",
       "      <td id=\"T_e5c91_row2_col5\" class=\"data row2 col5\" >8</td>\n",
       "      <td id=\"T_e5c91_row2_col6\" class=\"data row2 col6\" >10</td>\n",
       "      <td id=\"T_e5c91_row2_col7\" class=\"data row2 col7\" >default_ubuntu_20</td>\n",
       "      <td id=\"T_e5c91_row2_col8\" class=\"data row2 col8\" >2620:103:a006:12:f816:3eff:fe78:e32c</td>\n",
       "      <td id=\"T_e5c91_row2_col9\" class=\"data row2 col9\" >Active</td>\n",
       "      <td id=\"T_e5c91_row2_col10\" class=\"data row2 col10\" ></td>\n",
       "    </tr>\n",
       "    <tr>\n",
       "      <td id=\"T_e5c91_row3_col0\" class=\"data row3 col0\" >8e2d7a70-f72a-4de6-b8e8-d6192e2dd038</td>\n",
       "      <td id=\"T_e5c91_row3_col1\" class=\"data row3 col1\" >client-host</td>\n",
       "      <td id=\"T_e5c91_row3_col2\" class=\"data row3 col2\" >FIU</td>\n",
       "      <td id=\"T_e5c91_row3_col3\" class=\"data row3 col3\" >fiu-w4.fabric-testbed.net</td>\n",
       "      <td id=\"T_e5c91_row3_col4\" class=\"data row3 col4\" >2</td>\n",
       "      <td id=\"T_e5c91_row3_col5\" class=\"data row3 col5\" >8</td>\n",
       "      <td id=\"T_e5c91_row3_col6\" class=\"data row3 col6\" >10</td>\n",
       "      <td id=\"T_e5c91_row3_col7\" class=\"data row3 col7\" >default_ubuntu_20</td>\n",
       "      <td id=\"T_e5c91_row3_col8\" class=\"data row3 col8\" >131.94.57.56</td>\n",
       "      <td id=\"T_e5c91_row3_col9\" class=\"data row3 col9\" >Active</td>\n",
       "      <td id=\"T_e5c91_row3_col10\" class=\"data row3 col10\" ></td>\n",
       "    </tr>\n",
       "  </tbody>\n",
       "</table>\n"
      ],
      "text/plain": [
       "<pandas.io.formats.style.Styler at 0x7f75106929a0>"
      ]
     },
     "metadata": {},
     "output_type": "display_data"
    },
    {
     "data": {
      "text/html": [
       "<style type=\"text/css\">\n",
       "#T_2998c caption {\n",
       "  text-align: center;\n",
       "  font-size: 150%;\n",
       "  caption-side: top;\n",
       "}\n",
       "#T_2998c th {\n",
       "  text-align: left;\n",
       "}\n",
       "#T_2998c tr:nth-child(even) {\n",
       "  background: #dbf3ff;\n",
       "  color: #231f20;\n",
       "}\n",
       "#T_2998c tr:nth-child(odd) {\n",
       "  background: #ffffff;\n",
       "  color: #231f20;\n",
       "}\n",
       "#T_2998c .level0 {\n",
       "  border: 1px black solid !important;\n",
       "}\n",
       "#T_2998c_row0_col0, #T_2998c_row0_col1, #T_2998c_row0_col2, #T_2998c_row0_col3, #T_2998c_row0_col4, #T_2998c_row0_col5, #T_2998c_row0_col6, #T_2998c_row1_col0, #T_2998c_row1_col1, #T_2998c_row1_col2, #T_2998c_row1_col3, #T_2998c_row1_col4, #T_2998c_row1_col5, #T_2998c_row1_col6, #T_2998c_row2_col0, #T_2998c_row2_col1, #T_2998c_row2_col2, #T_2998c_row2_col3, #T_2998c_row2_col4, #T_2998c_row2_col5, #T_2998c_row2_col6 {\n",
       "  text-align: left;\n",
       "  border: 1px #231f20 solid !important;\n",
       "  overwrite: False;\n",
       "}\n",
       "#T_2998c_row0_col7, #T_2998c_row1_col7, #T_2998c_row2_col7 {\n",
       "  text-align: left;\n",
       "  border: 1px #231f20 solid !important;\n",
       "  overwrite: False;\n",
       "  background-color: #c3ffc4;\n",
       "}\n",
       "#T_2998c_row0_col8, #T_2998c_row1_col8, #T_2998c_row2_col8 {\n",
       "  text-align: left;\n",
       "  border: 1px #231f20 solid !important;\n",
       "  overwrite: False;\n",
       "  background-color: ;\n",
       "}\n",
       "</style>\n",
       "<table id=\"T_2998c\">\n",
       "  <caption>Networks</caption>\n",
       "  <thead>\n",
       "    <tr>\n",
       "      <th id=\"T_2998c_level0_col0\" class=\"col_heading level0 col0\" >ID</th>\n",
       "      <th id=\"T_2998c_level0_col1\" class=\"col_heading level0 col1\" >Name</th>\n",
       "      <th id=\"T_2998c_level0_col2\" class=\"col_heading level0 col2\" >Layer</th>\n",
       "      <th id=\"T_2998c_level0_col3\" class=\"col_heading level0 col3\" >Type</th>\n",
       "      <th id=\"T_2998c_level0_col4\" class=\"col_heading level0 col4\" >Site</th>\n",
       "      <th id=\"T_2998c_level0_col5\" class=\"col_heading level0 col5\" >Gateway</th>\n",
       "      <th id=\"T_2998c_level0_col6\" class=\"col_heading level0 col6\" >L3 Subnet</th>\n",
       "      <th id=\"T_2998c_level0_col7\" class=\"col_heading level0 col7\" >State</th>\n",
       "      <th id=\"T_2998c_level0_col8\" class=\"col_heading level0 col8\" >Error</th>\n",
       "    </tr>\n",
       "  </thead>\n",
       "  <tbody>\n",
       "    <tr>\n",
       "      <td id=\"T_2998c_row0_col0\" class=\"data row0 col0\" >30ad705c-8ffe-437a-a89a-976192eb2abb</td>\n",
       "      <td id=\"T_2998c_row0_col1\" class=\"data row0 col1\" >net-server-switch</td>\n",
       "      <td id=\"T_2998c_row0_col2\" class=\"data row0 col2\" >L2</td>\n",
       "      <td id=\"T_2998c_row0_col3\" class=\"data row0 col3\" >L2Bridge</td>\n",
       "      <td id=\"T_2998c_row0_col4\" class=\"data row0 col4\" >CLEM</td>\n",
       "      <td id=\"T_2998c_row0_col5\" class=\"data row0 col5\" >None</td>\n",
       "      <td id=\"T_2998c_row0_col6\" class=\"data row0 col6\" >None</td>\n",
       "      <td id=\"T_2998c_row0_col7\" class=\"data row0 col7\" >Active</td>\n",
       "      <td id=\"T_2998c_row0_col8\" class=\"data row0 col8\" ></td>\n",
       "    </tr>\n",
       "    <tr>\n",
       "      <td id=\"T_2998c_row1_col0\" class=\"data row1 col0\" >d38736cb-195d-4ef7-bf27-265b4d750c94</td>\n",
       "      <td id=\"T_2998c_row1_col1\" class=\"data row1 col1\" >net-client-switch</td>\n",
       "      <td id=\"T_2998c_row1_col2\" class=\"data row1 col2\" >L2</td>\n",
       "      <td id=\"T_2998c_row1_col3\" class=\"data row1 col3\" >L2Bridge</td>\n",
       "      <td id=\"T_2998c_row1_col4\" class=\"data row1 col4\" >FIU</td>\n",
       "      <td id=\"T_2998c_row1_col5\" class=\"data row1 col5\" >None</td>\n",
       "      <td id=\"T_2998c_row1_col6\" class=\"data row1 col6\" >None</td>\n",
       "      <td id=\"T_2998c_row1_col7\" class=\"data row1 col7\" >Active</td>\n",
       "      <td id=\"T_2998c_row1_col8\" class=\"data row1 col8\" ></td>\n",
       "    </tr>\n",
       "    <tr>\n",
       "      <td id=\"T_2998c_row2_col0\" class=\"data row2 col0\" >2b435a92-2f2d-4c94-9951-e3f3fe4b5ec0</td>\n",
       "      <td id=\"T_2998c_row2_col1\" class=\"data row2 col1\" >net-switch-switch</td>\n",
       "      <td id=\"T_2998c_row2_col2\" class=\"data row2 col2\" >L2</td>\n",
       "      <td id=\"T_2998c_row2_col3\" class=\"data row2 col3\" >L2STS</td>\n",
       "      <td id=\"T_2998c_row2_col4\" class=\"data row2 col4\" >None</td>\n",
       "      <td id=\"T_2998c_row2_col5\" class=\"data row2 col5\" >None</td>\n",
       "      <td id=\"T_2998c_row2_col6\" class=\"data row2 col6\" >None</td>\n",
       "      <td id=\"T_2998c_row2_col7\" class=\"data row2 col7\" >Active</td>\n",
       "      <td id=\"T_2998c_row2_col8\" class=\"data row2 col8\" ></td>\n",
       "    </tr>\n",
       "  </tbody>\n",
       "</table>\n"
      ],
      "text/plain": [
       "<pandas.io.formats.style.Styler at 0x7f7510680b20>"
      ]
     },
     "metadata": {},
     "output_type": "display_data"
    },
    {
     "name": "stdout",
     "output_type": "stream",
     "text": [
      "\n",
      "Time to stable 236 seconds\n",
      "Running post_boot_config ... Time to post boot config 244 seconds\n"
     ]
    },
    {
     "data": {
      "text/html": [
       "<style type=\"text/css\">\n",
       "#T_79400 caption {\n",
       "  text-align: center;\n",
       "  font-size: 150%;\n",
       "  caption-side: top;\n",
       "}\n",
       "#T_79400 th {\n",
       "  text-align: left;\n",
       "}\n",
       "#T_79400 tr:nth-child(even) {\n",
       "  background: #dbf3ff;\n",
       "  color: #231f20;\n",
       "}\n",
       "#T_79400 tr:nth-child(odd) {\n",
       "  background: #ffffff;\n",
       "  color: #231f20;\n",
       "}\n",
       "#T_79400 .level0 {\n",
       "  border: 1px black solid !important;\n",
       "}\n",
       "#T_79400_row0_col0, #T_79400_row0_col1, #T_79400_row0_col2, #T_79400_row0_col3, #T_79400_row0_col4, #T_79400_row0_col5, #T_79400_row0_col6, #T_79400_row1_col0, #T_79400_row1_col1, #T_79400_row1_col2, #T_79400_row1_col3, #T_79400_row1_col4, #T_79400_row1_col5, #T_79400_row1_col6, #T_79400_row2_col0, #T_79400_row2_col1, #T_79400_row2_col2, #T_79400_row2_col3, #T_79400_row2_col4, #T_79400_row2_col5, #T_79400_row2_col6, #T_79400_row3_col0, #T_79400_row3_col1, #T_79400_row3_col2, #T_79400_row3_col3, #T_79400_row3_col4, #T_79400_row3_col5, #T_79400_row3_col6, #T_79400_row4_col0, #T_79400_row4_col1, #T_79400_row4_col2, #T_79400_row4_col3, #T_79400_row4_col4, #T_79400_row4_col5, #T_79400_row4_col6, #T_79400_row5_col0, #T_79400_row5_col1, #T_79400_row5_col2, #T_79400_row5_col3, #T_79400_row5_col4, #T_79400_row5_col5, #T_79400_row5_col6 {\n",
       "  text-align: left;\n",
       "  border: 1px #231f20 solid !important;\n",
       "  overwrite: False;\n",
       "}\n",
       "</style>\n",
       "<table id=\"T_79400\">\n",
       "  <caption>Interfaces</caption>\n",
       "  <thead>\n",
       "    <tr>\n",
       "      <th id=\"T_79400_level0_col0\" class=\"col_heading level0 col0\" >Name</th>\n",
       "      <th id=\"T_79400_level0_col1\" class=\"col_heading level0 col1\" >Node</th>\n",
       "      <th id=\"T_79400_level0_col2\" class=\"col_heading level0 col2\" >Network</th>\n",
       "      <th id=\"T_79400_level0_col3\" class=\"col_heading level0 col3\" >Bandwidth</th>\n",
       "      <th id=\"T_79400_level0_col4\" class=\"col_heading level0 col4\" >VLAN</th>\n",
       "      <th id=\"T_79400_level0_col5\" class=\"col_heading level0 col5\" >MAC</th>\n",
       "      <th id=\"T_79400_level0_col6\" class=\"col_heading level0 col6\" >Device</th>\n",
       "    </tr>\n",
       "  </thead>\n",
       "  <tbody>\n",
       "    <tr>\n",
       "      <td id=\"T_79400_row0_col0\" class=\"data row0 col0\" >server-switch-nic-0001-p1</td>\n",
       "      <td id=\"T_79400_row0_col1\" class=\"data row0 col1\" >server-switch</td>\n",
       "      <td id=\"T_79400_row0_col2\" class=\"data row0 col2\" >net-server-switch</td>\n",
       "      <td id=\"T_79400_row0_col3\" class=\"data row0 col3\" >0</td>\n",
       "      <td id=\"T_79400_row0_col4\" class=\"data row0 col4\" >None</td>\n",
       "      <td id=\"T_79400_row0_col5\" class=\"data row0 col5\" >16:0D:C5:18:08:3F</td>\n",
       "      <td id=\"T_79400_row0_col6\" class=\"data row0 col6\" >ens7</td>\n",
       "    </tr>\n",
       "    <tr>\n",
       "      <td id=\"T_79400_row1_col0\" class=\"data row1 col0\" >server-switch-nic-0002-p1</td>\n",
       "      <td id=\"T_79400_row1_col1\" class=\"data row1 col1\" >server-switch</td>\n",
       "      <td id=\"T_79400_row1_col2\" class=\"data row1 col2\" >net-switch-switch</td>\n",
       "      <td id=\"T_79400_row1_col3\" class=\"data row1 col3\" >0</td>\n",
       "      <td id=\"T_79400_row1_col4\" class=\"data row1 col4\" >None</td>\n",
       "      <td id=\"T_79400_row1_col5\" class=\"data row1 col5\" >16:38:63:24:A3:CC</td>\n",
       "      <td id=\"T_79400_row1_col6\" class=\"data row1 col6\" >ens8</td>\n",
       "    </tr>\n",
       "    <tr>\n",
       "      <td id=\"T_79400_row2_col0\" class=\"data row2 col0\" >client-switch-nic-0003-p1</td>\n",
       "      <td id=\"T_79400_row2_col1\" class=\"data row2 col1\" >client-switch</td>\n",
       "      <td id=\"T_79400_row2_col2\" class=\"data row2 col2\" >net-client-switch</td>\n",
       "      <td id=\"T_79400_row2_col3\" class=\"data row2 col3\" >0</td>\n",
       "      <td id=\"T_79400_row2_col4\" class=\"data row2 col4\" >None</td>\n",
       "      <td id=\"T_79400_row2_col5\" class=\"data row2 col5\" >0A:9B:37:1B:52:DE</td>\n",
       "      <td id=\"T_79400_row2_col6\" class=\"data row2 col6\" >ens8</td>\n",
       "    </tr>\n",
       "    <tr>\n",
       "      <td id=\"T_79400_row3_col0\" class=\"data row3 col0\" >client-switch-nic-0004-p1</td>\n",
       "      <td id=\"T_79400_row3_col1\" class=\"data row3 col1\" >client-switch</td>\n",
       "      <td id=\"T_79400_row3_col2\" class=\"data row3 col2\" >net-switch-switch</td>\n",
       "      <td id=\"T_79400_row3_col3\" class=\"data row3 col3\" >0</td>\n",
       "      <td id=\"T_79400_row3_col4\" class=\"data row3 col4\" >None</td>\n",
       "      <td id=\"T_79400_row3_col5\" class=\"data row3 col5\" >0A:81:7D:59:9E:6F</td>\n",
       "      <td id=\"T_79400_row3_col6\" class=\"data row3 col6\" >ens7</td>\n",
       "    </tr>\n",
       "    <tr>\n",
       "      <td id=\"T_79400_row4_col0\" class=\"data row4 col0\" >server-host-nic-0005-p1</td>\n",
       "      <td id=\"T_79400_row4_col1\" class=\"data row4 col1\" >server-host</td>\n",
       "      <td id=\"T_79400_row4_col2\" class=\"data row4 col2\" >net-server-switch</td>\n",
       "      <td id=\"T_79400_row4_col3\" class=\"data row4 col3\" >0</td>\n",
       "      <td id=\"T_79400_row4_col4\" class=\"data row4 col4\" >None</td>\n",
       "      <td id=\"T_79400_row4_col5\" class=\"data row4 col5\" >16:B3:1F:BD:D0:D2</td>\n",
       "      <td id=\"T_79400_row4_col6\" class=\"data row4 col6\" >ens7</td>\n",
       "    </tr>\n",
       "    <tr>\n",
       "      <td id=\"T_79400_row5_col0\" class=\"data row5 col0\" >client-host-nic-0006-p1</td>\n",
       "      <td id=\"T_79400_row5_col1\" class=\"data row5 col1\" >client-host</td>\n",
       "      <td id=\"T_79400_row5_col2\" class=\"data row5 col2\" >net-client-switch</td>\n",
       "      <td id=\"T_79400_row5_col3\" class=\"data row5 col3\" >0</td>\n",
       "      <td id=\"T_79400_row5_col4\" class=\"data row5 col4\" >None</td>\n",
       "      <td id=\"T_79400_row5_col5\" class=\"data row5 col5\" >0A:FB:6A:2F:EC:A2</td>\n",
       "      <td id=\"T_79400_row5_col6\" class=\"data row5 col6\" >ens7</td>\n",
       "    </tr>\n",
       "  </tbody>\n",
       "</table>\n"
      ],
      "text/plain": [
       "<pandas.io.formats.style.Styler at 0x7f75104d6100>"
      ]
     },
     "metadata": {},
     "output_type": "display_data"
    },
    {
     "name": "stdout",
     "output_type": "stream",
     "text": [
      "\n",
      "Time to print interfaces 256 seconds\n"
     ]
    },
    {
     "data": {
      "text/plain": [
       "'30d4616c-8d8b-4532-baf0-e24082f65242'"
      ]
     },
     "execution_count": 4,
     "metadata": {},
     "output_type": "execute_result"
    }
   ],
   "source": [
    "\n",
    "# create the slice\n",
    "slice = fablib.new_slice(name=slice_name)\n",
    "\n",
    "# add server switch\n",
    "server_switch = slice.add_node(name=server_switch_name, site=server_site, image=image)\n",
    "server_switch_iface_host = server_switch.add_component(model='NIC_Basic', name=id('nic')).get_interfaces()[0]\n",
    "server_switch_iface_client_switch = server_switch.add_component(model='NIC_Basic', name=id('nic')).get_interfaces()[0]\n",
    "\n",
    "# add client switch\n",
    "client_switch = slice.add_node(name=client_switch_name, site=client_site, image=image)\n",
    "client_switch_iface_host = client_switch.add_component(model='NIC_Basic', name=id('nic')).get_interfaces()[0]\n",
    "client_switch_iface_server_switch = client_switch.add_component(model='NIC_Basic', name=id('nic')).get_interfaces()[0]\n",
    "\n",
    "# add server host\n",
    "server_host = slice.add_node(name=server_host_name, site=server_site, image=image)\n",
    "server_host_iface = server_host.add_component(model='NIC_Basic', name=id('nic')).get_interfaces()[0]\n",
    "\n",
    "# add client host\n",
    "client_host = slice.add_node(name=client_host_name, site=client_site, image=image)\n",
    "client_host_iface = client_host.add_component(model='NIC_Basic', name=id('nic')).get_interfaces()[0]\n",
    "\n",
    "# add networks\n",
    "server_switch_net = slice.add_l2network(name=net_server_switch_name, interfaces=[server_switch_iface_host, server_host_iface])\n",
    "client_switch_net = slice.add_l2network(name=net_client_switch_name, interfaces=[client_switch_iface_host, client_host_iface])\n",
    "switch_switch_net = slice.add_l2network(name=net_switch_switch_name, interfaces=[server_switch_iface_client_switch, client_switch_iface_server_switch])\n",
    "\n",
    "# submit slice for creation\n",
    "slice.submit()\n"
   ]
  },
  {
   "cell_type": "code",
   "execution_count": 5,
   "metadata": {},
   "outputs": [
    {
     "name": "stdout",
     "output_type": "stream",
     "text": [
      "node_name='server-switch'\n",
      "iface_name='server-switch-nic-0002-p1'\n",
      "iface_name='server-switch-nic-0001-p1'\n",
      "node_name='client-switch'\n",
      "iface_name='client-switch-nic-0004-p1'\n",
      "iface_name='client-switch-nic-0003-p1'\n",
      "node_name='server-host'\n",
      "iface_name='server-host-nic-0005-p1'\n",
      "node_name='client-host'\n",
      "iface_name='client-host-nic-0006-p1'\n"
     ]
    }
   ],
   "source": [
    "# set up nodes\n",
    "ip_addrs = dict()\n",
    "slice = fablib.get_slice(name=slice_name)\n",
    "l2_available_addrs = list(l2_subnet := IPv4Network(\"192.168.2.0/24\"))[1:]\n",
    "l3_available_addrs = list(l3_subnet := IPv4Network(\"192.168.3.0/24\"))[1:]\n",
    "node_addrs = defaultdict(lambda: l2_available_addrs.pop(0))\n",
    "for node in slice.get_nodes():\n",
    "  node_name = node.get_name()\n",
    "  print(f\"{node_name=}\")\n",
    "\n",
    "  # setup\n",
    "  node.execute(\"sudo apt update && sudo apt install net-tools && pip install netifaces\")\n",
    "  node.upload_directory('code','~')\n",
    "\n",
    "  # give ip to all nodes\n",
    "  for iface in node.get_interfaces():\n",
    "    iface_name = iface.get_name()\n",
    "    print(f\"{iface_name=}\")\n",
    "    iface.ip_addr_add(addr=node_addrs[node_name], subnet=l2_subnet)\n",
    "    iface.ip_link_up()\n",
    "    \n",
    "  if 'host' in node_name:\n",
    "    node.ip_route_add(subnet=l3_subnet, gateway=node_addrs[f\"{node_name[:-5]}-switch\"])\n"
   ]
  },
  {
   "cell_type": "code",
   "execution_count": 7,
   "metadata": {},
   "outputs": [
    {
     "data": {
      "text/plain": [
       "defaultdict(<function __main__.<lambda>()>,\n",
       "            {'server-switch': IPv4Address('192.168.2.1'),\n",
       "             'client-switch': IPv4Address('192.168.2.2'),\n",
       "             'server-host': IPv4Address('192.168.2.3'),\n",
       "             'client-host': IPv4Address('192.168.2.4')})"
      ]
     },
     "execution_count": 7,
     "metadata": {},
     "output_type": "execute_result"
    }
   ],
   "source": [
    "node_addrs\n",
    "  "
   ]
  },
  {
   "cell_type": "code",
   "execution_count": 6,
   "metadata": {},
   "outputs": [
    {
     "ename": "RuntimeError",
     "evalue": "No active exception to reraise",
     "output_type": "error",
     "traceback": [
      "\u001b[0;31m---------------------------------------------------------------------------\u001b[0m",
      "\u001b[0;31mRuntimeError\u001b[0m                              Traceback (most recent call last)",
      "\u001b[0;32m/tmp/ipykernel_516/3593712218.py\u001b[0m in \u001b[0;36m<module>\u001b[0;34m\u001b[0m\n\u001b[1;32m      1\u001b[0m \u001b[0;31m# install and start server switch\u001b[0m\u001b[0;34m\u001b[0m\u001b[0;34m\u001b[0m\u001b[0m\n\u001b[0;32m----> 2\u001b[0;31m \u001b[0;32mraise\u001b[0m\u001b[0;34m\u001b[0m\u001b[0;34m\u001b[0m\u001b[0m\n\u001b[0m\u001b[1;32m      3\u001b[0m \u001b[0mslice\u001b[0m \u001b[0;34m=\u001b[0m \u001b[0mfablib\u001b[0m\u001b[0;34m.\u001b[0m\u001b[0mget_slice\u001b[0m\u001b[0;34m(\u001b[0m\u001b[0mname\u001b[0m\u001b[0;34m=\u001b[0m\u001b[0mslice_name\u001b[0m\u001b[0;34m)\u001b[0m\u001b[0;34m\u001b[0m\u001b[0;34m\u001b[0m\u001b[0m\n\u001b[1;32m      4\u001b[0m \u001b[0;32mfor\u001b[0m \u001b[0mnet\u001b[0m \u001b[0;32min\u001b[0m \u001b[0mslice\u001b[0m\u001b[0;34m.\u001b[0m\u001b[0mget_l2networks\u001b[0m\u001b[0;34m(\u001b[0m\u001b[0;34m)\u001b[0m\u001b[0;34m:\u001b[0m\u001b[0;34m\u001b[0m\u001b[0;34m\u001b[0m\u001b[0m\n\u001b[1;32m      5\u001b[0m   \u001b[0mnet\u001b[0m\u001b[0;34m.\u001b[0m\u001b[0mshow\u001b[0m\u001b[0;34m(\u001b[0m\u001b[0;34m)\u001b[0m\u001b[0;34m\u001b[0m\u001b[0;34m\u001b[0m\u001b[0m\n",
      "\u001b[0;31mRuntimeError\u001b[0m: No active exception to reraise"
     ]
    }
   ],
   "source": [
    "# install and start server switch\n",
    "raise\n",
    "slice = fablib.get_slice(name=slice_name)\n",
    "for net in slice.get_l2networks():\n",
    "  net.show()"
   ]
  },
  {
   "cell_type": "markdown",
   "metadata": {},
   "source": [
    "## Configure Network Components"
   ]
  },
  {
   "cell_type": "code",
   "execution_count": null,
   "metadata": {},
   "outputs": [],
   "source": [
    "subnet = IPv4Network(\"192.168.1.0/24\")\n",
    "available_ips = list(subnet)[1:]\n",
    "f\"{list(subnet)[0]}\""
   ]
  },
  {
   "cell_type": "markdown",
   "metadata": {},
   "source": [
    "### Configure Hosts"
   ]
  },
  {
   "cell_type": "code",
   "execution_count": null,
   "metadata": {},
   "outputs": [],
   "source": [
    "raise\n",
    "# config information\n",
    "host_config_script = \"sudo apt-get update -qq && sudo apt-get install -qq -y python3-scapy && git clone https://github.com/p4lang/tutorials.git/\"\n",
    "\n",
    "# configure server host\n",
    "server_host = slice.get_node(name=server_host_name)        \n",
    "if type(ip_address(server_host.get_management_ip())) is IPv6Address:\n",
    "    stdout, stderr = server_host.execute(\"sudo sed -i '/nameserver/d' /etc/resolv.conf && sudo sh -c 'echo nameserver 2a00:1098:2c::1 >> /etc/resolv.conf' && sudo sh -c 'echo nameserver 2a01:4f8:c2c:123f::1 >> /etc/resolv.conf' && sudo sh -c 'echo nameserver 2a00:1098:2b::1 >> /etc/resolv.conf'\")\n",
    "    print(server_host_name)\n",
    "    print(f\"stdout:\\n{stdout}\\n\")\n",
    "    print(f\"stderr:\\n{stderr}\\n\")\n",
    "server_host_os_iface = server_host.get_interface(network_name=net_server_switch_name)\n",
    "server_host_os_iface.ip_addr_add(addr=server_host_addr, subnet=server_host_subnet)\n",
    "stdout, stderr = server_host.execute(host_config_script)\n",
    "print(server_host_name)\n",
    "print(f\"stdout:\\n{stdout}\\n\")\n",
    "print(f\"stderr:\\n{stderr}\\n\")\n",
    "\n",
    "# configure client host\n",
    "client_host = slice.get_node(name=client_host_name)        \n",
    "if type(ip_address(client_host.get_management_ip())) is IPv6Address:\n",
    "    stdout, stderr = client_host.execute(\"sudo sed -i '/nameserver/d' /etc/resolv.conf && sudo sh -c 'echo nameserver 2a00:1098:2c::1 >> /etc/resolv.conf' && sudo sh -c 'echo nameserver 2a01:4f8:c2c:123f::1 >> /etc/resolv.conf' && sudo sh -c 'echo nameserver 2a00:1098:2b::1 >> /etc/resolv.conf'\")\n",
    "    print(client_host_name)\n",
    "    print(f\"stdout:\\n{stdout}\\n\")\n",
    "    print(f\"stderr:\\n{stderr}\\n\")\n",
    "client_host_os_iface = client_host.get_interface(network_name=net_client_switch_name)\n",
    "client_host_os_iface.ip_addr_add(addr=client_host_addr, subnet=client_host_subnet)\n",
    "stdout, stderr = client_host.execute(host_config_script)\n",
    "print(client_host_name)\n",
    "print(f\"stdout:\\n{stdout}\\n\")\n",
    "print(f\"stderr:\\n{stderr}\\n\")\n"
   ]
  },
  {
   "cell_type": "markdown",
   "metadata": {},
   "source": [
    "### Configure Switches"
   ]
  },
  {
   "cell_type": "code",
   "execution_count": null,
   "metadata": {},
   "outputs": [],
   "source": [
    "server_switch = slice.get_node(name=server_switch_name)\n",
    "server_switch_os_iface = server_switch.get_interface(network_name=net_server_switch_name)\n",
    "switch_switch_os_iface = server_switch.get_interface(network_name=net_switch_switch_name)\n",
    "    \n",
    "if type(ip_address(server_switch.get_management_ip())) is IPv4Address:\n",
    "    management_ip_type = \"IPv4\"\n",
    "else:\n",
    "    management_ip_type = \"IPv6\"\n",
    "\n",
    "file_attributes = server_switch.upload_file(f'{root}/P4_bmv2/scripts/router_setup_p4_bmv2_container.sh','router_setup_p4_bmv2_container.sh')\n",
    "command=f\"chmod +x router_setup_p4_bmv2_container.sh && sudo sh -c './router_setup_p4_bmv2_container.sh  {management_ip_type} {server_switch_os_iface.get_os_interface()} {switch_switch_os_iface.get_os_interface()} > /tmp/script.log 2>&1'\"\n",
    "s1_config_thread = server_switch.execute_thread(command)\n",
    "config_threads[server_switch] = s1_config_thread"
   ]
  },
  {
   "cell_type": "code",
   "execution_count": null,
   "metadata": {},
   "outputs": [],
   "source": [
    "client_switch = slice.get_node(name=client_switch_name)\n",
    "client_switch_os_iface = client_switch.get_interface(network_name=net_client_switch_name)\n",
    "switch_switch_os_iface = client_switch.get_interface(network_name=net_switch_switch_name)\n",
    "    \n",
    "if type(ip_address(client_switch.get_management_ip())) is IPv4Address:\n",
    "    management_ip_type = \"IPv4\"\n",
    "else:\n",
    "    management_ip_type = \"IPv6\"\n",
    "\n",
    "file_attributes = client_switch.upload_file(f'{root}/P4_bmv2/scripts/router_setup_p4_bmv2_container.sh','router_setup_p4_bmv2_container.sh')\n",
    "command=f\"chmod +x router_setup_p4_bmv2_container.sh && sudo sh -c './router_setup_p4_bmv2_container.sh  {management_ip_type} {server_switch_os_iface.get_os_interface()} {switch_switch_os_iface.get_os_interface()} > /tmp/script.log 2>&1'\"\n",
    "s1_config_thread = client_switch.execute_thread(command)\n",
    "config_threads[client_switch] = s1_config_thread"
   ]
  },
  {
   "cell_type": "code",
   "execution_count": null,
   "metadata": {},
   "outputs": [],
   "source": [
    "# print the output of all nodes\n",
    "for node, thread in config_threads.items():\n",
    "  stdout, stderr = thread.result()\n",
    "  print(node.get_username())\n",
    "  print(f\"Config thread node {node.get_name()} complete\")\n",
    "  print(f\"stdout:\\n{stdout}\")\n",
    "  print(f\"stderr:\\n{stderr}\")"
   ]
  },
  {
   "cell_type": "markdown",
   "metadata": {},
   "source": [
    "## Delete Slice"
   ]
  },
  {
   "cell_type": "code",
   "execution_count": null,
   "metadata": {},
   "outputs": [],
   "source": [
    "raise\n",
    "slice = fablib.get_slice(name=slice_name)\n",
    "slice.delete()"
   ]
  },
  {
   "cell_type": "code",
   "execution_count": null,
   "metadata": {},
   "outputs": [],
   "source": []
  }
 ],
 "metadata": {
  "kernelspec": {
   "display_name": "Python 3 (ipykernel)",
   "language": "python",
   "name": "python3"
  },
  "language_info": {
   "codemirror_mode": {
    "name": "ipython",
    "version": 3
   },
   "file_extension": ".py",
   "mimetype": "text/x-python",
   "name": "python",
   "nbconvert_exporter": "python",
   "pygments_lexer": "ipython3",
   "version": "3.9.7"
  },
  "orig_nbformat": 4,
  "vscode": {
   "interpreter": {
    "hash": "b0fa6594d8f4cbf19f97940f81e996739fb7646882a419484c72d19e05852a7e"
   }
  }
 },
 "nbformat": 4,
 "nbformat_minor": 2
}
