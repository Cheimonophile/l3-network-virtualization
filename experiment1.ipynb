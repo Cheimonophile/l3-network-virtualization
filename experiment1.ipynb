{
 "cells": [
  {
   "cell_type": "markdown",
   "metadata": {},
   "source": [
    "# Experiment 1"
   ]
  },
  {
   "cell_type": "markdown",
   "metadata": {},
   "source": [
    "### Environment Setup"
   ]
  },
  {
   "cell_type": "code",
   "execution_count": 1,
   "metadata": {},
   "outputs": [
    {
     "name": "stdout",
     "output_type": "stream",
     "text": [
      "/home/fabric/work\n"
     ]
    }
   ],
   "source": [
    "%%bash -s\n",
    "\n",
    "# set root folder and get environment\n",
    "export root=\"/home/fabric/work\"\n",
    "source $root/env\n",
    "pwd"
   ]
  },
  {
   "cell_type": "code",
   "execution_count": 2,
   "metadata": {},
   "outputs": [
    {
     "data": {
      "text/html": [
       "<style type=\"text/css\">\n",
       "#T_28a85 tr:nth-child(even) {\n",
       "  background: #dbf3ff;\n",
       "  color: #231f20;\n",
       "}\n",
       "#T_28a85 tr:nth-child(odd) {\n",
       "  background: #ffffff;\n",
       "  color: #231f20;\n",
       "}\n",
       "#T_28a85 caption {\n",
       "  text-align: center;\n",
       "  font-size: 150%;\n",
       "}\n",
       "#T_28a85_row0_col0, #T_28a85_row0_col1, #T_28a85_row1_col0, #T_28a85_row1_col1, #T_28a85_row2_col0, #T_28a85_row2_col1, #T_28a85_row3_col0, #T_28a85_row3_col1, #T_28a85_row4_col0, #T_28a85_row4_col1, #T_28a85_row5_col0, #T_28a85_row5_col1, #T_28a85_row6_col0, #T_28a85_row6_col1, #T_28a85_row7_col0, #T_28a85_row7_col1, #T_28a85_row8_col0, #T_28a85_row8_col1, #T_28a85_row9_col0, #T_28a85_row9_col1, #T_28a85_row10_col0, #T_28a85_row10_col1, #T_28a85_row11_col0, #T_28a85_row11_col1, #T_28a85_row12_col0, #T_28a85_row12_col1 {\n",
       "  text-align: left;\n",
       "  border: 1px #231f20 solid !important;\n",
       "  overwrite: False;\n",
       "}\n",
       "</style>\n",
       "<table id=\"T_28a85\">\n",
       "  <caption>FABlib Config</caption>\n",
       "  <thead>\n",
       "  </thead>\n",
       "  <tbody>\n",
       "    <tr>\n",
       "      <td id=\"T_28a85_row0_col0\" class=\"data row0 col0\" >credmgr_host</td>\n",
       "      <td id=\"T_28a85_row0_col1\" class=\"data row0 col1\" >cm.fabric-testbed.net</td>\n",
       "    </tr>\n",
       "    <tr>\n",
       "      <td id=\"T_28a85_row1_col0\" class=\"data row1 col0\" >orchestrator_host</td>\n",
       "      <td id=\"T_28a85_row1_col1\" class=\"data row1 col1\" >orchestrator.fabric-testbed.net</td>\n",
       "    </tr>\n",
       "    <tr>\n",
       "      <td id=\"T_28a85_row2_col0\" class=\"data row2 col0\" >fabric_token</td>\n",
       "      <td id=\"T_28a85_row2_col1\" class=\"data row2 col1\" >/home/fabric/.tokens.json</td>\n",
       "    </tr>\n",
       "    <tr>\n",
       "      <td id=\"T_28a85_row3_col0\" class=\"data row3 col0\" >project_id</td>\n",
       "      <td id=\"T_28a85_row3_col1\" class=\"data row3 col1\" >6ce270de-788d-4e07-8bae-3206860a6387</td>\n",
       "    </tr>\n",
       "    <tr>\n",
       "      <td id=\"T_28a85_row4_col0\" class=\"data row4 col0\" >bastion_username</td>\n",
       "      <td id=\"T_28a85_row4_col1\" class=\"data row4 col1\" >brmclemo_0000026977</td>\n",
       "    </tr>\n",
       "    <tr>\n",
       "      <td id=\"T_28a85_row5_col0\" class=\"data row5 col0\" >bastion_key_filename</td>\n",
       "      <td id=\"T_28a85_row5_col1\" class=\"data row5 col1\" >/home/fabric/work/ssh/fabric-bastion</td>\n",
       "    </tr>\n",
       "    <tr>\n",
       "      <td id=\"T_28a85_row6_col0\" class=\"data row6 col0\" >bastion_public_addr</td>\n",
       "      <td id=\"T_28a85_row6_col1\" class=\"data row6 col1\" >bastion-1.fabric-testbed.net</td>\n",
       "    </tr>\n",
       "    <tr>\n",
       "      <td id=\"T_28a85_row7_col0\" class=\"data row7 col0\" >bastion_passphrase</td>\n",
       "      <td id=\"T_28a85_row7_col1\" class=\"data row7 col1\" >None</td>\n",
       "    </tr>\n",
       "    <tr>\n",
       "      <td id=\"T_28a85_row8_col0\" class=\"data row8 col0\" >slice_public_key_file</td>\n",
       "      <td id=\"T_28a85_row8_col1\" class=\"data row8 col1\" >/home/fabric/work/ssh/fabric-sliver.pub</td>\n",
       "    </tr>\n",
       "    <tr>\n",
       "      <td id=\"T_28a85_row9_col0\" class=\"data row9 col0\" >slice_private_key_file</td>\n",
       "      <td id=\"T_28a85_row9_col1\" class=\"data row9 col1\" >/home/fabric/work/ssh/fabric-sliver</td>\n",
       "    </tr>\n",
       "    <tr>\n",
       "      <td id=\"T_28a85_row10_col0\" class=\"data row10 col0\" >fabric_slice_private_key_passphrase</td>\n",
       "      <td id=\"T_28a85_row10_col1\" class=\"data row10 col1\" >None</td>\n",
       "    </tr>\n",
       "    <tr>\n",
       "      <td id=\"T_28a85_row11_col0\" class=\"data row11 col0\" >fablib_log_file</td>\n",
       "      <td id=\"T_28a85_row11_col1\" class=\"data row11 col1\" >/tmp/fablib/fablib.log</td>\n",
       "    </tr>\n",
       "    <tr>\n",
       "      <td id=\"T_28a85_row12_col0\" class=\"data row12 col0\" >fablib_log_level</td>\n",
       "      <td id=\"T_28a85_row12_col1\" class=\"data row12 col1\" >INFO</td>\n",
       "    </tr>\n",
       "  </tbody>\n",
       "</table>\n"
      ],
      "text/plain": [
       "<pandas.io.formats.style.Styler at 0x7fc9475e29d0>"
      ]
     },
     "metadata": {},
     "output_type": "display_data"
    },
    {
     "name": "stdout",
     "output_type": "stream",
     "text": [
      "server_site='UTAH', client_site='CLEM'\n"
     ]
    }
   ],
   "source": [
    "# imports\n",
    "import os\n",
    "import time\n",
    "import json\n",
    "import traceback\n",
    "from fabrictestbed_extensions.fablib.fablib import FablibManager as fablib_manager\n",
    "from fabrictestbed_extensions.fablib.node import Node\n",
    "from threading import Thread\n",
    "from ipaddress import ip_address, IPv4Address, IPv6Address, IPv4Network, IPv6Network\n",
    "import uuid\n",
    "from collections import defaultdict\n",
    "from IPython.display import display\n",
    "\n",
    "# show fablib config\n",
    "fablib = fablib_manager()             \n",
    "fablib.show_config()\n",
    "\n",
    "# constants\n",
    "root = \"/home/fabric/work\"\n",
    "\n",
    "# component names\n",
    "slice_name = \"experiment1\"\n",
    "server_site, client_site = fablib.get_random_sites(count=2, avoid=['AL2S','STAR', 'MAX','TACC','NCSA'])\n",
    "print(f\"{server_site=}, {client_site=}\")\n",
    "\n",
    "# switch detail\n",
    "client_switch_name = \"client-switch\"\n",
    "server_switch_name = \"server-switch\"\n",
    "switch_cores = 2\n",
    "switch_ram = 8\n",
    "switch_disk = 100\n",
    "\n",
    "# host details\n",
    "client_host_name = \"client-host\"\n",
    "server_host_name = \"server-host\"\n",
    "image = 'default_ubuntu_20'\n",
    "server_host_subnet=IPv4Network('10.0.1.0/24')\n",
    "server_host_addr=IPv4Address('10.0.1.1')\n",
    "client_host_subnet=IPv4Network('10.0.2.0/24')\n",
    "client_host_addr=IPv4Address('10.0.2.2')\n",
    "\n",
    "# network details\n",
    "net_server_switch_name = \"net-server-switch\"\n",
    "net_client_switch_name = \"net-client-switch\"\n",
    "net_switch_switch_name = \"net-switch-switch\""
   ]
  },
  {
   "cell_type": "code",
   "execution_count": 3,
   "metadata": {},
   "outputs": [],
   "source": [
    "# some helper functions\n",
    "__id_counter = defaultdict(int)\n",
    "def id(name=None):\n",
    "  global __id_counter\n",
    "  __id_counter[name] += 1\n",
    "  return f\"{name}-{str(__id_counter[name]).zfill(4)}\""
   ]
  },
  {
   "cell_type": "markdown",
   "metadata": {},
   "source": [
    "## Setup Network"
   ]
  },
  {
   "cell_type": "code",
   "execution_count": 4,
   "metadata": {},
   "outputs": [
    {
     "ename": "RuntimeError",
     "evalue": "No active exception to reraise",
     "output_type": "error",
     "traceback": [
      "\u001b[0;31m---------------------------------------------------------------------------\u001b[0m",
      "\u001b[0;31mRuntimeError\u001b[0m                              Traceback (most recent call last)",
      "\u001b[0;32m/tmp/ipykernel_904/2319589590.py\u001b[0m in \u001b[0;36m<module>\u001b[0;34m\u001b[0m\n\u001b[0;32m----> 1\u001b[0;31m \u001b[0;32mraise\u001b[0m\u001b[0;34m\u001b[0m\u001b[0;34m\u001b[0m\u001b[0m\n\u001b[0m\u001b[1;32m      2\u001b[0m \u001b[0;34m\u001b[0m\u001b[0m\n\u001b[1;32m      3\u001b[0m \u001b[0;31m# create the slice\u001b[0m\u001b[0;34m\u001b[0m\u001b[0;34m\u001b[0m\u001b[0m\n\u001b[1;32m      4\u001b[0m \u001b[0mslice\u001b[0m \u001b[0;34m=\u001b[0m \u001b[0mfablib\u001b[0m\u001b[0;34m.\u001b[0m\u001b[0mnew_slice\u001b[0m\u001b[0;34m(\u001b[0m\u001b[0mname\u001b[0m\u001b[0;34m=\u001b[0m\u001b[0mslice_name\u001b[0m\u001b[0;34m)\u001b[0m\u001b[0;34m\u001b[0m\u001b[0;34m\u001b[0m\u001b[0m\n\u001b[1;32m      5\u001b[0m \u001b[0;34m\u001b[0m\u001b[0m\n",
      "\u001b[0;31mRuntimeError\u001b[0m: No active exception to reraise"
     ]
    }
   ],
   "source": [
    "\n",
    "# raise\n",
    "\n",
    "# create the slice\n",
    "slice = fablib.new_slice(name=slice_name)\n",
    "\n",
    "# add server switch\n",
    "server_switch = slice.add_node(name=server_switch_name, site=server_site, image=image)\n",
    "server_switch_iface_host = server_switch.add_component(model='NIC_Basic', name=id('nic')).get_interfaces()[0]\n",
    "server_switch_iface_client_switch = server_switch.add_component(model='NIC_Basic', name=id('nic')).get_interfaces()[0]\n",
    "\n",
    "# add client switch\n",
    "client_switch = slice.add_node(name=client_switch_name, site=client_site, image=image)\n",
    "client_switch_iface_host = client_switch.add_component(model='NIC_Basic', name=id('nic')).get_interfaces()[0]\n",
    "client_switch_iface_server_switch = client_switch.add_component(model='NIC_Basic', name=id('nic')).get_interfaces()[0]\n",
    "\n",
    "# add server host\n",
    "server_host = slice.add_node(name=server_host_name, site=server_site, image=image)\n",
    "server_host_iface = server_host.add_component(model='NIC_Basic', name=id('nic')).get_interfaces()[0]\n",
    "\n",
    "# add client host\n",
    "client_host = slice.add_node(name=client_host_name, site=client_site, image=image)\n",
    "client_host_iface = client_host.add_component(model='NIC_Basic', name=id('nic')).get_interfaces()[0]\n",
    "\n",
    "# add networks\n",
    "server_switch_net = slice.add_l2network(name=net_server_switch_name, interfaces=[server_switch_iface_host, server_host_iface])\n",
    "client_switch_net = slice.add_l2network(name=net_client_switch_name, interfaces=[client_switch_iface_host, client_host_iface])\n",
    "switch_switch_net = slice.add_l2network(name=net_switch_switch_name, interfaces=[server_switch_iface_client_switch, client_switch_iface_server_switch])\n",
    "\n",
    "# submit slice for creation\n",
    "slice.submit()\n"
   ]
  },
  {
   "cell_type": "code",
   "execution_count": null,
   "metadata": {},
   "outputs": [],
   "source": [
    "# set up nodes\n",
    "ip_addrs = dict()\n",
    "slice = fablib.get_slice(name=slice_name)\n",
    "available_addrs = list(subnet := IPv4Network(\"192.168.2.0/24\"))[1:]\n",
    "gateway_addr = available_addrs.pop(0)\n",
    "addrs = defaultdict(lambda: available_addrs.pop(0))\n",
    "for node in slice.get_nodes():\n",
    "  node_name = node.get_name()\n",
    "  print(f\"{node_name=}\")\n",
    "\n",
    "  # setup\n",
    "  node.execute(\"sudo apt update && sudo apt install net-tools && pip install netifaces\")\n",
    "  node.upload_directory('code','~')\n",
    "\n",
    "  # give ip to all nodes\n",
    "  for iface in node.get_interfaces():\n",
    "    iface_name = iface.get_name()\n",
    "    print(f\"{iface_name=}\")\n",
    "    if 'host' in node_name:\n",
    "      iface.ip_addr_add(addr=addrs[node_name], subnet=subnet)\n",
    "    else:\n",
    "      iface.ip_addr_add(addr=gateway_addr, subnet=subnet)\n",
    "    iface.ip_link_up()\n",
    "    \n",
    "  \n"
   ]
  },
  {
   "cell_type": "code",
   "execution_count": null,
   "metadata": {},
   "outputs": [],
   "source": [
    "# set up l3 networking addresses\n",
    "l3_available_addrs = list(l3_subnet := IPv4Network(\"192.168.3.0/24\"))[1:]\n",
    "l3_addrs = defaultdict(lambda: l3_available_addrs.pop(0))\n",
    "for node in slice.get_nodes():\n",
    "  node_name = node.get_name()\n",
    "  if 'host' in node_name:\n",
    "    print(f\"{node_name=}\")\n",
    "    for iface in node.get_interfaces():\n",
    "      iface_name = iface.get_name()\n",
    "      print(f\"{iface_name=}\")\n",
    "      iface.ip_addr_add(addr=l3_addrs[node_name], subnet=l3_subnet)\n",
    "\n",
    "\n",
    "# static arp tables\n",
    "for node in slice.get_nodes():\n",
    "  node_name = node.get_name()\n",
    "  if 'host' in node_name:\n",
    "    print(f\"{node_name=}\")\n",
    "    # \"sudo ip neighbor add 192.168.3.8 dev ens7 lladdr ff:ff:ff:ff:ff:ff\"\n",
    "    command = '; '.join(\n",
    "      f\"sudo ip neighbor add {l3_addr} dev {iface.get_os_interface()} lladdr ff:ff:ff:ff:ff:ff\"\n",
    "      for iface in node.get_interfaces()\n",
    "      for l3_addr in l3_addrs.values()\n",
    "    )\n",
    "    node.execute(command)\n",
    "    "
   ]
  },
  {
   "cell_type": "code",
   "execution_count": null,
   "metadata": {},
   "outputs": [],
   "source": [
    "# store values for server\n",
    "for node in slice.get_nodes():\n",
    "  node_name = node.get_name()\n",
    "  if 'switch' in node_name:\n",
    "    print(f\"{node_name=}\")\n",
    "    host_iface = node.get_interface(network_name=f\"net-{node_name}\")\n",
    "    network_iface = node.get_interface(network_name=f\"net-switch-switch\")\n",
    "    transformer_config = {\n",
    "      'host': host_iface.get_os_interface(),\n",
    "      'network': network_iface.get_os_interface(),\n",
    "      'id': 0,\n",
    "      'protocols': {\n",
    "        # 'ARP': 0x0806,\n",
    "        'IP': 0x0800,\n",
    "      }\n",
    "    }\n",
    "    transformer_config_json = json.dumps(transformer_config)\n",
    "    node.execute(f\"echo '{transformer_config_json}' >transformer_config.json\")\n",
    "    node.execute(f\"echo identity >identity.txt\")\n",
    "# for net in slice.get_networks():\n",
    "#   net_name=net.get_name()\n",
    "#   print(f\"{net.get_name()=}\")"
   ]
  },
  {
   "cell_type": "code",
   "execution_count": null,
   "metadata": {},
   "outputs": [],
   "source": [
    "# keep track of threads\n",
    "threads = {}"
   ]
  },
  {
   "cell_type": "code",
   "execution_count": null,
   "metadata": {},
   "outputs": [],
   "source": [
    "# start servers\n",
    "raise\n",
    "timeout = 10\n",
    "slice.get_node(server_switch_name).execute_thread(f\"sudo timeout {timeout} python3 code/transformer.py <transformer_config.json\")\n",
    "slice.get_node(client_switch_name).execute_thread(f\"sudo timeout {timeout} python3 code/transformer.py <transformer_config.json\")\n",
    "slice.get_node(server_host_name).execute_thread(f\"nc -ul 8080 -w {timeout} >result.txt\")\n",
    "time.sleep(2)\n",
    "slice.get_node(client_host_name).execute_thread(f\"nc -u {l3_addrs[server_host_name]} -w {timeout} <identity.txt\")\n",
    "time.sleep(10)\n",
    "print('here')\n",
    "out, err = slice.get_node(server_host_name).execute(\"cat result.txt\")\n",
    "print(out)"
   ]
  },
  {
   "cell_type": "markdown",
   "metadata": {},
   "source": [
    "### Configure Hosts"
   ]
  },
  {
   "cell_type": "markdown",
   "metadata": {},
   "source": [
    "### Configure Switches"
   ]
  },
  {
   "cell_type": "markdown",
   "metadata": {},
   "source": [
    "## Delete Slice"
   ]
  },
  {
   "cell_type": "code",
   "execution_count": null,
   "metadata": {},
   "outputs": [],
   "source": []
  },
  {
   "cell_type": "code",
   "execution_count": null,
   "metadata": {},
   "outputs": [],
   "source": []
  }
 ],
 "metadata": {
  "kernelspec": {
   "display_name": "Python 3 (ipykernel)",
   "language": "python",
   "name": "python3"
  },
  "language_info": {
   "codemirror_mode": {
    "name": "ipython",
    "version": 3
   },
   "file_extension": ".py",
   "mimetype": "text/x-python",
   "name": "python",
   "nbconvert_exporter": "python",
   "pygments_lexer": "ipython3",
   "version": "3.9.7"
  },
  "orig_nbformat": 4,
  "vscode": {
   "interpreter": {
    "hash": "e13aa66c9245dde9975eb8a9a4cb9c260e280b6bf5c839dae5dc7c274663985a"
   }
  }
 },
 "nbformat": 4,
 "nbformat_minor": 2
}
