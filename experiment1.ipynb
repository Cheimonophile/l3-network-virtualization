{
 "cells": [
  {
   "cell_type": "markdown",
   "metadata": {},
   "source": [
    "# Experiment 1"
   ]
  },
  {
   "cell_type": "markdown",
   "metadata": {},
   "source": [
    "### Environment Setup"
   ]
  },
  {
   "cell_type": "code",
   "execution_count": 1,
   "metadata": {},
   "outputs": [
    {
     "name": "stdout",
     "output_type": "stream",
     "text": [
      "/home/fabric/work\n"
     ]
    }
   ],
   "source": [
    "%%bash -s\n",
    "\n",
    "# set root folder and get environment\n",
    "export root=\"/home/fabric/work\"\n",
    "source $root/env\n",
    "pwd"
   ]
  },
  {
   "cell_type": "code",
   "execution_count": 2,
   "metadata": {},
   "outputs": [
    {
     "data": {
      "text/html": [
       "<style type=\"text/css\">\n",
       "#T_e96ba tr:nth-child(even) {\n",
       "  background: #dbf3ff;\n",
       "  color: #231f20;\n",
       "}\n",
       "#T_e96ba tr:nth-child(odd) {\n",
       "  background: #ffffff;\n",
       "  color: #231f20;\n",
       "}\n",
       "#T_e96ba caption {\n",
       "  text-align: center;\n",
       "  font-size: 150%;\n",
       "}\n",
       "#T_e96ba_row0_col0, #T_e96ba_row0_col1, #T_e96ba_row1_col0, #T_e96ba_row1_col1, #T_e96ba_row2_col0, #T_e96ba_row2_col1, #T_e96ba_row3_col0, #T_e96ba_row3_col1, #T_e96ba_row4_col0, #T_e96ba_row4_col1, #T_e96ba_row5_col0, #T_e96ba_row5_col1, #T_e96ba_row6_col0, #T_e96ba_row6_col1, #T_e96ba_row7_col0, #T_e96ba_row7_col1, #T_e96ba_row8_col0, #T_e96ba_row8_col1, #T_e96ba_row9_col0, #T_e96ba_row9_col1, #T_e96ba_row10_col0, #T_e96ba_row10_col1, #T_e96ba_row11_col0, #T_e96ba_row11_col1, #T_e96ba_row12_col0, #T_e96ba_row12_col1 {\n",
       "  text-align: left;\n",
       "  border: 1px #231f20 solid !important;\n",
       "  overwrite: False;\n",
       "}\n",
       "</style>\n",
       "<table id=\"T_e96ba\">\n",
       "  <caption>FABlib Config</caption>\n",
       "  <thead>\n",
       "  </thead>\n",
       "  <tbody>\n",
       "    <tr>\n",
       "      <td id=\"T_e96ba_row0_col0\" class=\"data row0 col0\" >credmgr_host</td>\n",
       "      <td id=\"T_e96ba_row0_col1\" class=\"data row0 col1\" >cm.fabric-testbed.net</td>\n",
       "    </tr>\n",
       "    <tr>\n",
       "      <td id=\"T_e96ba_row1_col0\" class=\"data row1 col0\" >orchestrator_host</td>\n",
       "      <td id=\"T_e96ba_row1_col1\" class=\"data row1 col1\" >orchestrator.fabric-testbed.net</td>\n",
       "    </tr>\n",
       "    <tr>\n",
       "      <td id=\"T_e96ba_row2_col0\" class=\"data row2 col0\" >fabric_token</td>\n",
       "      <td id=\"T_e96ba_row2_col1\" class=\"data row2 col1\" >/home/fabric/.tokens.json</td>\n",
       "    </tr>\n",
       "    <tr>\n",
       "      <td id=\"T_e96ba_row3_col0\" class=\"data row3 col0\" >project_id</td>\n",
       "      <td id=\"T_e96ba_row3_col1\" class=\"data row3 col1\" >6ce270de-788d-4e07-8bae-3206860a6387</td>\n",
       "    </tr>\n",
       "    <tr>\n",
       "      <td id=\"T_e96ba_row4_col0\" class=\"data row4 col0\" >bastion_username</td>\n",
       "      <td id=\"T_e96ba_row4_col1\" class=\"data row4 col1\" >brmclemo_0000026977</td>\n",
       "    </tr>\n",
       "    <tr>\n",
       "      <td id=\"T_e96ba_row5_col0\" class=\"data row5 col0\" >bastion_key_filename</td>\n",
       "      <td id=\"T_e96ba_row5_col1\" class=\"data row5 col1\" >/home/fabric/work/ssh/fabric-bastion</td>\n",
       "    </tr>\n",
       "    <tr>\n",
       "      <td id=\"T_e96ba_row6_col0\" class=\"data row6 col0\" >bastion_public_addr</td>\n",
       "      <td id=\"T_e96ba_row6_col1\" class=\"data row6 col1\" >bastion-1.fabric-testbed.net</td>\n",
       "    </tr>\n",
       "    <tr>\n",
       "      <td id=\"T_e96ba_row7_col0\" class=\"data row7 col0\" >bastion_passphrase</td>\n",
       "      <td id=\"T_e96ba_row7_col1\" class=\"data row7 col1\" >None</td>\n",
       "    </tr>\n",
       "    <tr>\n",
       "      <td id=\"T_e96ba_row8_col0\" class=\"data row8 col0\" >slice_public_key_file</td>\n",
       "      <td id=\"T_e96ba_row8_col1\" class=\"data row8 col1\" >/home/fabric/work/ssh/fabric-sliver.pub</td>\n",
       "    </tr>\n",
       "    <tr>\n",
       "      <td id=\"T_e96ba_row9_col0\" class=\"data row9 col0\" >slice_private_key_file</td>\n",
       "      <td id=\"T_e96ba_row9_col1\" class=\"data row9 col1\" >/home/fabric/work/ssh/fabric-sliver</td>\n",
       "    </tr>\n",
       "    <tr>\n",
       "      <td id=\"T_e96ba_row10_col0\" class=\"data row10 col0\" >fabric_slice_private_key_passphrase</td>\n",
       "      <td id=\"T_e96ba_row10_col1\" class=\"data row10 col1\" >None</td>\n",
       "    </tr>\n",
       "    <tr>\n",
       "      <td id=\"T_e96ba_row11_col0\" class=\"data row11 col0\" >fablib_log_file</td>\n",
       "      <td id=\"T_e96ba_row11_col1\" class=\"data row11 col1\" >/tmp/fablib/fablib.log</td>\n",
       "    </tr>\n",
       "    <tr>\n",
       "      <td id=\"T_e96ba_row12_col0\" class=\"data row12 col0\" >fablib_log_level</td>\n",
       "      <td id=\"T_e96ba_row12_col1\" class=\"data row12 col1\" >INFO</td>\n",
       "    </tr>\n",
       "  </tbody>\n",
       "</table>\n"
      ],
      "text/plain": [
       "<pandas.io.formats.style.Styler at 0x7f4ab11cbdf0>"
      ]
     },
     "metadata": {},
     "output_type": "display_data"
    },
    {
     "name": "stdout",
     "output_type": "stream",
     "text": [
      "server_site='UTAH', client_site='UCSD'\n"
     ]
    }
   ],
   "source": [
    "# imports\n",
    "import os\n",
    "import json\n",
    "import traceback\n",
    "from fabrictestbed_extensions.fablib.fablib import FablibManager as fablib_manager\n",
    "from fabrictestbed_extensions.fablib.node import Node\n",
    "from threading import Thread\n",
    "from ipaddress import ip_address, IPv4Address, IPv6Address, IPv4Network, IPv6Network\n",
    "import uuid\n",
    "from collections import defaultdict\n",
    "from IPython.display import display\n",
    "\n",
    "# show fablib config\n",
    "fablib = fablib_manager()             \n",
    "fablib.show_config()\n",
    "\n",
    "# constants\n",
    "root = \"/home/fabric/work\"\n",
    "\n",
    "# component names\n",
    "slice_name = \"experiment1\"\n",
    "server_site, client_site = fablib.get_random_sites(count=2, avoid=['AL2S','STAR', 'MAX'])\n",
    "print(f\"{server_site=}, {client_site=}\")\n",
    "\n",
    "# switch detail\n",
    "client_switch_name = \"client-switch\"\n",
    "server_switch_name = \"server-switch\"\n",
    "switch_cores = 2\n",
    "switch_ram = 8\n",
    "switch_disk = 100\n",
    "\n",
    "# host details\n",
    "client_host_name = \"client-host\"\n",
    "server_host_name = \"server-host\"\n",
    "image = 'default_ubuntu_20'\n",
    "server_host_subnet=IPv4Network('10.0.1.0/24')\n",
    "server_host_addr=IPv4Address('10.0.1.1')\n",
    "client_host_subnet=IPv4Network('10.0.2.0/24')\n",
    "client_host_addr=IPv4Address('10.0.2.2')\n",
    "\n",
    "# network details\n",
    "net_server_switch_name = \"net-server-switch\"\n",
    "net_client_switch_name = \"net-client-switch\"\n",
    "net_switch_switch_name = \"net-switch-switch\""
   ]
  },
  {
   "cell_type": "code",
   "execution_count": 3,
   "metadata": {},
   "outputs": [],
   "source": [
    "# some helper functions\n",
    "__id_counter = defaultdict(int)\n",
    "def id(name=None):\n",
    "  global __id_counter\n",
    "  __id_counter[name] += 1\n",
    "  return f\"{name}-{str(__id_counter[name]).zfill(4)}\""
   ]
  },
  {
   "cell_type": "markdown",
   "metadata": {},
   "source": [
    "## Setup Network"
   ]
  },
  {
   "cell_type": "code",
   "execution_count": 4,
   "metadata": {},
   "outputs": [
    {
     "name": "stdout",
     "output_type": "stream",
     "text": [
      "\n",
      "Retry: 7, Time: 194 sec\n"
     ]
    },
    {
     "data": {
      "text/html": [
       "<style type=\"text/css\">\n",
       "#T_d9d42 tr:nth-child(even) {\n",
       "  background: #dbf3ff;\n",
       "  color: #231f20;\n",
       "}\n",
       "#T_d9d42 tr:nth-child(odd) {\n",
       "  background: #ffffff;\n",
       "  color: #231f20;\n",
       "}\n",
       "#T_d9d42 caption {\n",
       "  text-align: center;\n",
       "  font-size: 150%;\n",
       "}\n",
       "#T_d9d42_row0_col0, #T_d9d42_row0_col1, #T_d9d42_row1_col0, #T_d9d42_row1_col1, #T_d9d42_row2_col0, #T_d9d42_row2_col1, #T_d9d42_row3_col0, #T_d9d42_row3_col1, #T_d9d42_row4_col0, #T_d9d42_row4_col1, #T_d9d42_row5_col0 {\n",
       "  text-align: left;\n",
       "  border: 1px #231f20 solid !important;\n",
       "  overwrite: False;\n",
       "  background-color: ;\n",
       "}\n",
       "#T_d9d42_row5_col1 {\n",
       "  text-align: left;\n",
       "  border: 1px #231f20 solid !important;\n",
       "  overwrite: False;\n",
       "  background-color: #c3ffc4;\n",
       "}\n",
       "</style>\n",
       "<table id=\"T_d9d42\">\n",
       "  <caption>Slice</caption>\n",
       "  <thead>\n",
       "  </thead>\n",
       "  <tbody>\n",
       "    <tr>\n",
       "      <td id=\"T_d9d42_row0_col0\" class=\"data row0 col0\" >ID</td>\n",
       "      <td id=\"T_d9d42_row0_col1\" class=\"data row0 col1\" >fb24965e-5cb6-45af-9428-7c108bb53116</td>\n",
       "    </tr>\n",
       "    <tr>\n",
       "      <td id=\"T_d9d42_row1_col0\" class=\"data row1 col0\" >Name</td>\n",
       "      <td id=\"T_d9d42_row1_col1\" class=\"data row1 col1\" >experiment1</td>\n",
       "    </tr>\n",
       "    <tr>\n",
       "      <td id=\"T_d9d42_row2_col0\" class=\"data row2 col0\" >Lease Expiration (UTC)</td>\n",
       "      <td id=\"T_d9d42_row2_col1\" class=\"data row2 col1\" >2022-11-30 21:31:25 +0000</td>\n",
       "    </tr>\n",
       "    <tr>\n",
       "      <td id=\"T_d9d42_row3_col0\" class=\"data row3 col0\" >Lease Start (UTC)</td>\n",
       "      <td id=\"T_d9d42_row3_col1\" class=\"data row3 col1\" >2022-11-29 21:31:26 +0000</td>\n",
       "    </tr>\n",
       "    <tr>\n",
       "      <td id=\"T_d9d42_row4_col0\" class=\"data row4 col0\" >Project ID</td>\n",
       "      <td id=\"T_d9d42_row4_col1\" class=\"data row4 col1\" >6ce270de-788d-4e07-8bae-3206860a6387</td>\n",
       "    </tr>\n",
       "    <tr>\n",
       "      <td id=\"T_d9d42_row5_col0\" class=\"data row5 col0\" >State</td>\n",
       "      <td id=\"T_d9d42_row5_col1\" class=\"data row5 col1\" >StableOK</td>\n",
       "    </tr>\n",
       "  </tbody>\n",
       "</table>\n"
      ],
      "text/plain": [
       "<pandas.io.formats.style.Styler at 0x7f4aa873e2e0>"
      ]
     },
     "metadata": {},
     "output_type": "display_data"
    },
    {
     "data": {
      "text/html": [
       "<style type=\"text/css\">\n",
       "#T_781f0 caption {\n",
       "  text-align: center;\n",
       "  font-size: 150%;\n",
       "  caption-side: top;\n",
       "}\n",
       "#T_781f0 th {\n",
       "  text-align: left;\n",
       "}\n",
       "#T_781f0 tr:nth-child(even) {\n",
       "  background: #dbf3ff;\n",
       "  color: #231f20;\n",
       "}\n",
       "#T_781f0 tr:nth-child(odd) {\n",
       "  background: #ffffff;\n",
       "  color: #231f20;\n",
       "}\n",
       "#T_781f0 .level0 {\n",
       "  border: 1px black solid !important;\n",
       "}\n",
       "#T_781f0_row0_col0, #T_781f0_row0_col1, #T_781f0_row0_col2, #T_781f0_row0_col3, #T_781f0_row0_col4, #T_781f0_row0_col5, #T_781f0_row0_col6, #T_781f0_row0_col7, #T_781f0_row0_col8, #T_781f0_row1_col0, #T_781f0_row1_col1, #T_781f0_row1_col2, #T_781f0_row1_col3, #T_781f0_row1_col4, #T_781f0_row1_col5, #T_781f0_row1_col6, #T_781f0_row1_col7, #T_781f0_row1_col8, #T_781f0_row2_col0, #T_781f0_row2_col1, #T_781f0_row2_col2, #T_781f0_row2_col3, #T_781f0_row2_col4, #T_781f0_row2_col5, #T_781f0_row2_col6, #T_781f0_row2_col7, #T_781f0_row2_col8, #T_781f0_row3_col0, #T_781f0_row3_col1, #T_781f0_row3_col2, #T_781f0_row3_col3, #T_781f0_row3_col4, #T_781f0_row3_col5, #T_781f0_row3_col6, #T_781f0_row3_col7, #T_781f0_row3_col8 {\n",
       "  text-align: left;\n",
       "  border: 1px #231f20 solid !important;\n",
       "  overwrite: False;\n",
       "}\n",
       "#T_781f0_row0_col9, #T_781f0_row1_col9, #T_781f0_row2_col9, #T_781f0_row3_col9 {\n",
       "  text-align: left;\n",
       "  border: 1px #231f20 solid !important;\n",
       "  overwrite: False;\n",
       "  background-color: #c3ffc4;\n",
       "}\n",
       "#T_781f0_row0_col10, #T_781f0_row1_col10, #T_781f0_row2_col10, #T_781f0_row3_col10 {\n",
       "  text-align: left;\n",
       "  border: 1px #231f20 solid !important;\n",
       "  overwrite: False;\n",
       "  background-color: ;\n",
       "}\n",
       "</style>\n",
       "<table id=\"T_781f0\">\n",
       "  <caption>Nodes</caption>\n",
       "  <thead>\n",
       "    <tr>\n",
       "      <th id=\"T_781f0_level0_col0\" class=\"col_heading level0 col0\" >ID</th>\n",
       "      <th id=\"T_781f0_level0_col1\" class=\"col_heading level0 col1\" >Name</th>\n",
       "      <th id=\"T_781f0_level0_col2\" class=\"col_heading level0 col2\" >Site</th>\n",
       "      <th id=\"T_781f0_level0_col3\" class=\"col_heading level0 col3\" >Host</th>\n",
       "      <th id=\"T_781f0_level0_col4\" class=\"col_heading level0 col4\" >Cores</th>\n",
       "      <th id=\"T_781f0_level0_col5\" class=\"col_heading level0 col5\" >RAM</th>\n",
       "      <th id=\"T_781f0_level0_col6\" class=\"col_heading level0 col6\" >Disk</th>\n",
       "      <th id=\"T_781f0_level0_col7\" class=\"col_heading level0 col7\" >Image</th>\n",
       "      <th id=\"T_781f0_level0_col8\" class=\"col_heading level0 col8\" >Management IP</th>\n",
       "      <th id=\"T_781f0_level0_col9\" class=\"col_heading level0 col9\" >State</th>\n",
       "      <th id=\"T_781f0_level0_col10\" class=\"col_heading level0 col10\" >Error</th>\n",
       "    </tr>\n",
       "  </thead>\n",
       "  <tbody>\n",
       "    <tr>\n",
       "      <td id=\"T_781f0_row0_col0\" class=\"data row0 col0\" >75c36c6d-05b4-412b-b46c-226322749993</td>\n",
       "      <td id=\"T_781f0_row0_col1\" class=\"data row0 col1\" >server-switch</td>\n",
       "      <td id=\"T_781f0_row0_col2\" class=\"data row0 col2\" >UTAH</td>\n",
       "      <td id=\"T_781f0_row0_col3\" class=\"data row0 col3\" >utah-w3.fabric-testbed.net</td>\n",
       "      <td id=\"T_781f0_row0_col4\" class=\"data row0 col4\" >2</td>\n",
       "      <td id=\"T_781f0_row0_col5\" class=\"data row0 col5\" >8</td>\n",
       "      <td id=\"T_781f0_row0_col6\" class=\"data row0 col6\" >10</td>\n",
       "      <td id=\"T_781f0_row0_col7\" class=\"data row0 col7\" >default_ubuntu_20</td>\n",
       "      <td id=\"T_781f0_row0_col8\" class=\"data row0 col8\" >2001:1948:417:7:f816:3eff:fe9b:6043</td>\n",
       "      <td id=\"T_781f0_row0_col9\" class=\"data row0 col9\" >Active</td>\n",
       "      <td id=\"T_781f0_row0_col10\" class=\"data row0 col10\" ></td>\n",
       "    </tr>\n",
       "    <tr>\n",
       "      <td id=\"T_781f0_row1_col0\" class=\"data row1 col0\" >3c8398bb-2b14-4548-a9eb-5ddb8c11a45d</td>\n",
       "      <td id=\"T_781f0_row1_col1\" class=\"data row1 col1\" >client-switch</td>\n",
       "      <td id=\"T_781f0_row1_col2\" class=\"data row1 col2\" >UCSD</td>\n",
       "      <td id=\"T_781f0_row1_col3\" class=\"data row1 col3\" >ucsd-w2.fabric-testbed.net</td>\n",
       "      <td id=\"T_781f0_row1_col4\" class=\"data row1 col4\" >2</td>\n",
       "      <td id=\"T_781f0_row1_col5\" class=\"data row1 col5\" >8</td>\n",
       "      <td id=\"T_781f0_row1_col6\" class=\"data row1 col6\" >10</td>\n",
       "      <td id=\"T_781f0_row1_col7\" class=\"data row1 col7\" >default_ubuntu_20</td>\n",
       "      <td id=\"T_781f0_row1_col8\" class=\"data row1 col8\" >132.249.252.167</td>\n",
       "      <td id=\"T_781f0_row1_col9\" class=\"data row1 col9\" >Active</td>\n",
       "      <td id=\"T_781f0_row1_col10\" class=\"data row1 col10\" ></td>\n",
       "    </tr>\n",
       "    <tr>\n",
       "      <td id=\"T_781f0_row2_col0\" class=\"data row2 col0\" >8f4b6ed5-aa3d-4ccb-809b-4c933dc73236</td>\n",
       "      <td id=\"T_781f0_row2_col1\" class=\"data row2 col1\" >server-host</td>\n",
       "      <td id=\"T_781f0_row2_col2\" class=\"data row2 col2\" >UTAH</td>\n",
       "      <td id=\"T_781f0_row2_col3\" class=\"data row2 col3\" >utah-w3.fabric-testbed.net</td>\n",
       "      <td id=\"T_781f0_row2_col4\" class=\"data row2 col4\" >2</td>\n",
       "      <td id=\"T_781f0_row2_col5\" class=\"data row2 col5\" >8</td>\n",
       "      <td id=\"T_781f0_row2_col6\" class=\"data row2 col6\" >10</td>\n",
       "      <td id=\"T_781f0_row2_col7\" class=\"data row2 col7\" >default_ubuntu_20</td>\n",
       "      <td id=\"T_781f0_row2_col8\" class=\"data row2 col8\" >2001:1948:417:7:f816:3eff:fe23:ccf8</td>\n",
       "      <td id=\"T_781f0_row2_col9\" class=\"data row2 col9\" >Active</td>\n",
       "      <td id=\"T_781f0_row2_col10\" class=\"data row2 col10\" ></td>\n",
       "    </tr>\n",
       "    <tr>\n",
       "      <td id=\"T_781f0_row3_col0\" class=\"data row3 col0\" >3c9def49-9b99-4a77-8931-75726e8c291a</td>\n",
       "      <td id=\"T_781f0_row3_col1\" class=\"data row3 col1\" >client-host</td>\n",
       "      <td id=\"T_781f0_row3_col2\" class=\"data row3 col2\" >UCSD</td>\n",
       "      <td id=\"T_781f0_row3_col3\" class=\"data row3 col3\" >ucsd-w2.fabric-testbed.net</td>\n",
       "      <td id=\"T_781f0_row3_col4\" class=\"data row3 col4\" >2</td>\n",
       "      <td id=\"T_781f0_row3_col5\" class=\"data row3 col5\" >8</td>\n",
       "      <td id=\"T_781f0_row3_col6\" class=\"data row3 col6\" >10</td>\n",
       "      <td id=\"T_781f0_row3_col7\" class=\"data row3 col7\" >default_ubuntu_20</td>\n",
       "      <td id=\"T_781f0_row3_col8\" class=\"data row3 col8\" >132.249.252.175</td>\n",
       "      <td id=\"T_781f0_row3_col9\" class=\"data row3 col9\" >Active</td>\n",
       "      <td id=\"T_781f0_row3_col10\" class=\"data row3 col10\" ></td>\n",
       "    </tr>\n",
       "  </tbody>\n",
       "</table>\n"
      ],
      "text/plain": [
       "<pandas.io.formats.style.Styler at 0x7f4ac6eadc70>"
      ]
     },
     "metadata": {},
     "output_type": "display_data"
    },
    {
     "data": {
      "text/html": [
       "<style type=\"text/css\">\n",
       "#T_068ec caption {\n",
       "  text-align: center;\n",
       "  font-size: 150%;\n",
       "  caption-side: top;\n",
       "}\n",
       "#T_068ec th {\n",
       "  text-align: left;\n",
       "}\n",
       "#T_068ec tr:nth-child(even) {\n",
       "  background: #dbf3ff;\n",
       "  color: #231f20;\n",
       "}\n",
       "#T_068ec tr:nth-child(odd) {\n",
       "  background: #ffffff;\n",
       "  color: #231f20;\n",
       "}\n",
       "#T_068ec .level0 {\n",
       "  border: 1px black solid !important;\n",
       "}\n",
       "#T_068ec_row0_col0, #T_068ec_row0_col1, #T_068ec_row0_col2, #T_068ec_row0_col3, #T_068ec_row0_col4, #T_068ec_row0_col5, #T_068ec_row0_col6, #T_068ec_row1_col0, #T_068ec_row1_col1, #T_068ec_row1_col2, #T_068ec_row1_col3, #T_068ec_row1_col4, #T_068ec_row1_col5, #T_068ec_row1_col6, #T_068ec_row2_col0, #T_068ec_row2_col1, #T_068ec_row2_col2, #T_068ec_row2_col3, #T_068ec_row2_col4, #T_068ec_row2_col5, #T_068ec_row2_col6 {\n",
       "  text-align: left;\n",
       "  border: 1px #231f20 solid !important;\n",
       "  overwrite: False;\n",
       "}\n",
       "#T_068ec_row0_col7, #T_068ec_row1_col7, #T_068ec_row2_col7 {\n",
       "  text-align: left;\n",
       "  border: 1px #231f20 solid !important;\n",
       "  overwrite: False;\n",
       "  background-color: #c3ffc4;\n",
       "}\n",
       "#T_068ec_row0_col8, #T_068ec_row1_col8, #T_068ec_row2_col8 {\n",
       "  text-align: left;\n",
       "  border: 1px #231f20 solid !important;\n",
       "  overwrite: False;\n",
       "  background-color: ;\n",
       "}\n",
       "</style>\n",
       "<table id=\"T_068ec\">\n",
       "  <caption>Networks</caption>\n",
       "  <thead>\n",
       "    <tr>\n",
       "      <th id=\"T_068ec_level0_col0\" class=\"col_heading level0 col0\" >ID</th>\n",
       "      <th id=\"T_068ec_level0_col1\" class=\"col_heading level0 col1\" >Name</th>\n",
       "      <th id=\"T_068ec_level0_col2\" class=\"col_heading level0 col2\" >Layer</th>\n",
       "      <th id=\"T_068ec_level0_col3\" class=\"col_heading level0 col3\" >Type</th>\n",
       "      <th id=\"T_068ec_level0_col4\" class=\"col_heading level0 col4\" >Site</th>\n",
       "      <th id=\"T_068ec_level0_col5\" class=\"col_heading level0 col5\" >Gateway</th>\n",
       "      <th id=\"T_068ec_level0_col6\" class=\"col_heading level0 col6\" >L3 Subnet</th>\n",
       "      <th id=\"T_068ec_level0_col7\" class=\"col_heading level0 col7\" >State</th>\n",
       "      <th id=\"T_068ec_level0_col8\" class=\"col_heading level0 col8\" >Error</th>\n",
       "    </tr>\n",
       "  </thead>\n",
       "  <tbody>\n",
       "    <tr>\n",
       "      <td id=\"T_068ec_row0_col0\" class=\"data row0 col0\" >6c65dab9-b5b3-4c94-a90d-d2e0b4de6ab2</td>\n",
       "      <td id=\"T_068ec_row0_col1\" class=\"data row0 col1\" >net-server-switch</td>\n",
       "      <td id=\"T_068ec_row0_col2\" class=\"data row0 col2\" >L2</td>\n",
       "      <td id=\"T_068ec_row0_col3\" class=\"data row0 col3\" >L2Bridge</td>\n",
       "      <td id=\"T_068ec_row0_col4\" class=\"data row0 col4\" >UTAH</td>\n",
       "      <td id=\"T_068ec_row0_col5\" class=\"data row0 col5\" >None</td>\n",
       "      <td id=\"T_068ec_row0_col6\" class=\"data row0 col6\" >None</td>\n",
       "      <td id=\"T_068ec_row0_col7\" class=\"data row0 col7\" >Active</td>\n",
       "      <td id=\"T_068ec_row0_col8\" class=\"data row0 col8\" ></td>\n",
       "    </tr>\n",
       "    <tr>\n",
       "      <td id=\"T_068ec_row1_col0\" class=\"data row1 col0\" >a1d8e8d3-44f8-4276-8f95-0f9b90bbca35</td>\n",
       "      <td id=\"T_068ec_row1_col1\" class=\"data row1 col1\" >net-client-switch</td>\n",
       "      <td id=\"T_068ec_row1_col2\" class=\"data row1 col2\" >L2</td>\n",
       "      <td id=\"T_068ec_row1_col3\" class=\"data row1 col3\" >L2Bridge</td>\n",
       "      <td id=\"T_068ec_row1_col4\" class=\"data row1 col4\" >UCSD</td>\n",
       "      <td id=\"T_068ec_row1_col5\" class=\"data row1 col5\" >None</td>\n",
       "      <td id=\"T_068ec_row1_col6\" class=\"data row1 col6\" >None</td>\n",
       "      <td id=\"T_068ec_row1_col7\" class=\"data row1 col7\" >Active</td>\n",
       "      <td id=\"T_068ec_row1_col8\" class=\"data row1 col8\" ></td>\n",
       "    </tr>\n",
       "    <tr>\n",
       "      <td id=\"T_068ec_row2_col0\" class=\"data row2 col0\" >c2fa8473-2b67-4b40-8eeb-fa6f5f7bb1b9</td>\n",
       "      <td id=\"T_068ec_row2_col1\" class=\"data row2 col1\" >net-switch-switch</td>\n",
       "      <td id=\"T_068ec_row2_col2\" class=\"data row2 col2\" >L2</td>\n",
       "      <td id=\"T_068ec_row2_col3\" class=\"data row2 col3\" >L2STS</td>\n",
       "      <td id=\"T_068ec_row2_col4\" class=\"data row2 col4\" >None</td>\n",
       "      <td id=\"T_068ec_row2_col5\" class=\"data row2 col5\" >None</td>\n",
       "      <td id=\"T_068ec_row2_col6\" class=\"data row2 col6\" >None</td>\n",
       "      <td id=\"T_068ec_row2_col7\" class=\"data row2 col7\" >Active</td>\n",
       "      <td id=\"T_068ec_row2_col8\" class=\"data row2 col8\" ></td>\n",
       "    </tr>\n",
       "  </tbody>\n",
       "</table>\n"
      ],
      "text/plain": [
       "<pandas.io.formats.style.Styler at 0x7f4ac79a4fd0>"
      ]
     },
     "metadata": {},
     "output_type": "display_data"
    },
    {
     "name": "stdout",
     "output_type": "stream",
     "text": [
      "\n",
      "Time to stable 194 seconds\n",
      "Running post_boot_config ... Time to post boot config 203 seconds\n"
     ]
    },
    {
     "data": {
      "text/html": [
       "<style type=\"text/css\">\n",
       "#T_de1b9 caption {\n",
       "  text-align: center;\n",
       "  font-size: 150%;\n",
       "  caption-side: top;\n",
       "}\n",
       "#T_de1b9 th {\n",
       "  text-align: left;\n",
       "}\n",
       "#T_de1b9 tr:nth-child(even) {\n",
       "  background: #dbf3ff;\n",
       "  color: #231f20;\n",
       "}\n",
       "#T_de1b9 tr:nth-child(odd) {\n",
       "  background: #ffffff;\n",
       "  color: #231f20;\n",
       "}\n",
       "#T_de1b9 .level0 {\n",
       "  border: 1px black solid !important;\n",
       "}\n",
       "#T_de1b9_row0_col0, #T_de1b9_row0_col1, #T_de1b9_row0_col2, #T_de1b9_row0_col3, #T_de1b9_row0_col4, #T_de1b9_row0_col5, #T_de1b9_row0_col6, #T_de1b9_row1_col0, #T_de1b9_row1_col1, #T_de1b9_row1_col2, #T_de1b9_row1_col3, #T_de1b9_row1_col4, #T_de1b9_row1_col5, #T_de1b9_row1_col6, #T_de1b9_row2_col0, #T_de1b9_row2_col1, #T_de1b9_row2_col2, #T_de1b9_row2_col3, #T_de1b9_row2_col4, #T_de1b9_row2_col5, #T_de1b9_row2_col6, #T_de1b9_row3_col0, #T_de1b9_row3_col1, #T_de1b9_row3_col2, #T_de1b9_row3_col3, #T_de1b9_row3_col4, #T_de1b9_row3_col5, #T_de1b9_row3_col6, #T_de1b9_row4_col0, #T_de1b9_row4_col1, #T_de1b9_row4_col2, #T_de1b9_row4_col3, #T_de1b9_row4_col4, #T_de1b9_row4_col5, #T_de1b9_row4_col6, #T_de1b9_row5_col0, #T_de1b9_row5_col1, #T_de1b9_row5_col2, #T_de1b9_row5_col3, #T_de1b9_row5_col4, #T_de1b9_row5_col5, #T_de1b9_row5_col6 {\n",
       "  text-align: left;\n",
       "  border: 1px #231f20 solid !important;\n",
       "  overwrite: False;\n",
       "}\n",
       "</style>\n",
       "<table id=\"T_de1b9\">\n",
       "  <caption>Interfaces</caption>\n",
       "  <thead>\n",
       "    <tr>\n",
       "      <th id=\"T_de1b9_level0_col0\" class=\"col_heading level0 col0\" >Name</th>\n",
       "      <th id=\"T_de1b9_level0_col1\" class=\"col_heading level0 col1\" >Node</th>\n",
       "      <th id=\"T_de1b9_level0_col2\" class=\"col_heading level0 col2\" >Network</th>\n",
       "      <th id=\"T_de1b9_level0_col3\" class=\"col_heading level0 col3\" >Bandwidth</th>\n",
       "      <th id=\"T_de1b9_level0_col4\" class=\"col_heading level0 col4\" >VLAN</th>\n",
       "      <th id=\"T_de1b9_level0_col5\" class=\"col_heading level0 col5\" >MAC</th>\n",
       "      <th id=\"T_de1b9_level0_col6\" class=\"col_heading level0 col6\" >Device</th>\n",
       "    </tr>\n",
       "  </thead>\n",
       "  <tbody>\n",
       "    <tr>\n",
       "      <td id=\"T_de1b9_row0_col0\" class=\"data row0 col0\" >server-switch-nic-0002-p1</td>\n",
       "      <td id=\"T_de1b9_row0_col1\" class=\"data row0 col1\" >server-switch</td>\n",
       "      <td id=\"T_de1b9_row0_col2\" class=\"data row0 col2\" >net-switch-switch</td>\n",
       "      <td id=\"T_de1b9_row0_col3\" class=\"data row0 col3\" >0</td>\n",
       "      <td id=\"T_de1b9_row0_col4\" class=\"data row0 col4\" >None</td>\n",
       "      <td id=\"T_de1b9_row0_col5\" class=\"data row0 col5\" >16:9B:54:83:4C:01</td>\n",
       "      <td id=\"T_de1b9_row0_col6\" class=\"data row0 col6\" >ens7</td>\n",
       "    </tr>\n",
       "    <tr>\n",
       "      <td id=\"T_de1b9_row1_col0\" class=\"data row1 col0\" >server-switch-nic-0001-p1</td>\n",
       "      <td id=\"T_de1b9_row1_col1\" class=\"data row1 col1\" >server-switch</td>\n",
       "      <td id=\"T_de1b9_row1_col2\" class=\"data row1 col2\" >net-server-switch</td>\n",
       "      <td id=\"T_de1b9_row1_col3\" class=\"data row1 col3\" >0</td>\n",
       "      <td id=\"T_de1b9_row1_col4\" class=\"data row1 col4\" >None</td>\n",
       "      <td id=\"T_de1b9_row1_col5\" class=\"data row1 col5\" >16:BC:38:EC:D3:4E</td>\n",
       "      <td id=\"T_de1b9_row1_col6\" class=\"data row1 col6\" >ens8</td>\n",
       "    </tr>\n",
       "    <tr>\n",
       "      <td id=\"T_de1b9_row2_col0\" class=\"data row2 col0\" >client-switch-nic-0004-p1</td>\n",
       "      <td id=\"T_de1b9_row2_col1\" class=\"data row2 col1\" >client-switch</td>\n",
       "      <td id=\"T_de1b9_row2_col2\" class=\"data row2 col2\" >net-switch-switch</td>\n",
       "      <td id=\"T_de1b9_row2_col3\" class=\"data row2 col3\" >0</td>\n",
       "      <td id=\"T_de1b9_row2_col4\" class=\"data row2 col4\" >None</td>\n",
       "      <td id=\"T_de1b9_row2_col5\" class=\"data row2 col5\" >02:73:45:58:72:B0</td>\n",
       "      <td id=\"T_de1b9_row2_col6\" class=\"data row2 col6\" >ens7</td>\n",
       "    </tr>\n",
       "    <tr>\n",
       "      <td id=\"T_de1b9_row3_col0\" class=\"data row3 col0\" >client-switch-nic-0003-p1</td>\n",
       "      <td id=\"T_de1b9_row3_col1\" class=\"data row3 col1\" >client-switch</td>\n",
       "      <td id=\"T_de1b9_row3_col2\" class=\"data row3 col2\" >net-client-switch</td>\n",
       "      <td id=\"T_de1b9_row3_col3\" class=\"data row3 col3\" >0</td>\n",
       "      <td id=\"T_de1b9_row3_col4\" class=\"data row3 col4\" >None</td>\n",
       "      <td id=\"T_de1b9_row3_col5\" class=\"data row3 col5\" >1A:52:A9:BB:94:C0</td>\n",
       "      <td id=\"T_de1b9_row3_col6\" class=\"data row3 col6\" >ens8</td>\n",
       "    </tr>\n",
       "    <tr>\n",
       "      <td id=\"T_de1b9_row4_col0\" class=\"data row4 col0\" >server-host-nic-0005-p1</td>\n",
       "      <td id=\"T_de1b9_row4_col1\" class=\"data row4 col1\" >server-host</td>\n",
       "      <td id=\"T_de1b9_row4_col2\" class=\"data row4 col2\" >net-server-switch</td>\n",
       "      <td id=\"T_de1b9_row4_col3\" class=\"data row4 col3\" >0</td>\n",
       "      <td id=\"T_de1b9_row4_col4\" class=\"data row4 col4\" >None</td>\n",
       "      <td id=\"T_de1b9_row4_col5\" class=\"data row4 col5\" >16:EB:E7:38:A6:33</td>\n",
       "      <td id=\"T_de1b9_row4_col6\" class=\"data row4 col6\" >ens7</td>\n",
       "    </tr>\n",
       "    <tr>\n",
       "      <td id=\"T_de1b9_row5_col0\" class=\"data row5 col0\" >client-host-nic-0006-p1</td>\n",
       "      <td id=\"T_de1b9_row5_col1\" class=\"data row5 col1\" >client-host</td>\n",
       "      <td id=\"T_de1b9_row5_col2\" class=\"data row5 col2\" >net-client-switch</td>\n",
       "      <td id=\"T_de1b9_row5_col3\" class=\"data row5 col3\" >0</td>\n",
       "      <td id=\"T_de1b9_row5_col4\" class=\"data row5 col4\" >None</td>\n",
       "      <td id=\"T_de1b9_row5_col5\" class=\"data row5 col5\" >1A:84:1F:2D:6B:87</td>\n",
       "      <td id=\"T_de1b9_row5_col6\" class=\"data row5 col6\" >ens7</td>\n",
       "    </tr>\n",
       "  </tbody>\n",
       "</table>\n"
      ],
      "text/plain": [
       "<pandas.io.formats.style.Styler at 0x7f4aa8599970>"
      ]
     },
     "metadata": {},
     "output_type": "display_data"
    },
    {
     "name": "stdout",
     "output_type": "stream",
     "text": [
      "\n",
      "Time to print interfaces 216 seconds\n"
     ]
    },
    {
     "data": {
      "text/plain": [
       "'fb24965e-5cb6-45af-9428-7c108bb53116'"
      ]
     },
     "execution_count": 4,
     "metadata": {},
     "output_type": "execute_result"
    }
   ],
   "source": [
    "\n",
    "# create the slice\n",
    "slice = fablib.new_slice(name=slice_name)\n",
    "\n",
    "# add server switch\n",
    "server_switch = slice.add_node(name=server_switch_name, site=server_site, image=image)\n",
    "server_switch_iface_host = server_switch.add_component(model='NIC_Basic', name=id('nic')).get_interfaces()[0]\n",
    "server_switch_iface_client_switch = server_switch.add_component(model='NIC_Basic', name=id('nic')).get_interfaces()[0]\n",
    "\n",
    "# add client switch\n",
    "client_switch = slice.add_node(name=client_switch_name, site=client_site, image=image)\n",
    "client_switch_iface_host = client_switch.add_component(model='NIC_Basic', name=id('nic')).get_interfaces()[0]\n",
    "client_switch_iface_server_switch = client_switch.add_component(model='NIC_Basic', name=id('nic')).get_interfaces()[0]\n",
    "\n",
    "# add server host\n",
    "server_host = slice.add_node(name=server_host_name, site=server_site, image=image)\n",
    "server_host_iface = server_host.add_component(model='NIC_Basic', name=id('nic')).get_interfaces()[0]\n",
    "\n",
    "# add client host\n",
    "client_host = slice.add_node(name=client_host_name, site=client_site, image=image)\n",
    "client_host_iface = client_host.add_component(model='NIC_Basic', name=id('nic')).get_interfaces()[0]\n",
    "\n",
    "# add networks\n",
    "server_switch_net = slice.add_l2network(name=net_server_switch_name, interfaces=[server_switch_iface_host, server_host_iface])\n",
    "client_switch_net = slice.add_l2network(name=net_client_switch_name, interfaces=[client_switch_iface_host, client_host_iface])\n",
    "switch_switch_net = slice.add_l2network(name=net_switch_switch_name, interfaces=[server_switch_iface_client_switch, client_switch_iface_server_switch])\n",
    "\n",
    "# submit slice for creation\n",
    "slice.submit()\n"
   ]
  },
  {
   "cell_type": "code",
   "execution_count": 5,
   "metadata": {},
   "outputs": [
    {
     "name": "stdout",
     "output_type": "stream",
     "text": [
      "node_name='server-switch'\n",
      "iface_name='server-switch-nic-0001-p1'\n",
      "iface_name='server-switch-nic-0002-p1'\n",
      "node_name='client-switch'\n",
      "iface_name='client-switch-nic-0003-p1'\n",
      "iface_name='client-switch-nic-0004-p1'\n",
      "node_name='server-host'\n",
      "iface_name='server-host-nic-0005-p1'\n",
      "node_name='client-host'\n",
      "iface_name='client-host-nic-0006-p1'\n",
      "node_name='server-host'\n",
      "node_name='client-host'\n"
     ]
    }
   ],
   "source": [
    "# set up nodes\n",
    "ip_addrs = dict()\n",
    "slice = fablib.get_slice(name=slice_name)\n",
    "switch_available_addrs = list(switch_subnet := IPv4Network(\"192.168.2.0/24\"))[1:]\n",
    "host_available_addrs = list(host_subnet := IPv4Network(\"192.168.3.0/24\"))[1:]\n",
    "# any_available_addrs = list(any_subnet := IPv4Network(\"192.168.3.0/24\"))[1:]\n",
    "switch_addrs = defaultdict(lambda: switch_available_addrs.pop(0))\n",
    "host_addrs = defaultdict(lambda: host_available_addrs.pop(0))\n",
    "# any_addrs = defaultdict(lambda: any_available_addrs.pop(0))\n",
    "for node in slice.get_nodes():\n",
    "  node_name = node.get_name()\n",
    "  print(f\"{node_name=}\")\n",
    "\n",
    "  # setup\n",
    "  node.execute(\"sudo apt update && sudo apt install net-tools && pip install netifaces\")\n",
    "  node.upload_directory('code','~')\n",
    "\n",
    "  # give ip to all nodes\n",
    "  for iface in node.get_interfaces():\n",
    "    iface_name = iface.get_name()\n",
    "    print(f\"{iface_name=}\")\n",
    "    iface.ip_addr_add(addr=switch_addrs[node_name], subnet=switch_subnet)\n",
    "    iface.ip_link_up()\n",
    "    \n",
    "  \n"
   ]
  },
  {
   "cell_type": "code",
   "execution_count": 14,
   "metadata": {},
   "outputs": [
    {
     "name": "stdout",
     "output_type": "stream",
     "text": [
      "node_name='server-host'\n",
      "node_name='client-host'\n"
     ]
    }
   ],
   "source": [
    "# set up l3 networking addresses\n",
    "for node in slice.get_nodes():\n",
    "  node_name = node.get_name()\n",
    "  if 'host' in node_name:\n",
    "    print(f\"{node_name=}\")\n",
    "    node.ip_route_add(subnet=host_subnet, gateway=switch_addrs[f\"{node_name[:-5]}-switch\"])"
   ]
  },
  {
   "cell_type": "code",
   "execution_count": 27,
   "metadata": {},
   "outputs": [
    {
     "name": "stdout",
     "output_type": "stream",
     "text": [
      "node_name='server-switch'\n",
      "node_name='client-switch'\n"
     ]
    }
   ],
   "source": [
    "# store values for server\n",
    "for node in slice.get_nodes():\n",
    "  node_name = node.get_name()\n",
    "  if 'switch' in node_name:\n",
    "    print(f\"{node_name=}\")\n",
    "    host_iface = node.get_interface(network_name=f\"net-{node_name}\")\n",
    "    network_iface = node.get_interface(network_name=f\"net-switch-switch\")\n",
    "    transformer_config = {\n",
    "      'host': host_iface.get_os_interface(),\n",
    "      'network': network_iface.get_os_interface(),\n",
    "      'id': 0\n",
    "    }\n",
    "    transformer_config_json = json.dumps(transformer_config)\n",
    "    node.execute(f\"echo '{transformer_config_json}' >transformer_config.json\")\n",
    "# for net in slice.get_networks():\n",
    "#   net_name=net.get_name()\n",
    "#   print(f\"{net.get_name()=}\")"
   ]
  },
  {
   "cell_type": "code",
   "execution_count": 12,
   "metadata": {},
   "outputs": [
    {
     "data": {
      "text/plain": [
       "'192.168.3.0/24'"
      ]
     },
     "execution_count": 12,
     "metadata": {},
     "output_type": "execute_result"
    }
   ],
   "source": [
    "# install and start server switch\n",
    "raise\n",
    "slice = fablib.get_slice(name=slice_name)\n",
    "for net in slice.get_l2networks():\n",
    "  net.show()"
   ]
  },
  {
   "cell_type": "markdown",
   "metadata": {},
   "source": [
    "## Configure Network Components"
   ]
  },
  {
   "cell_type": "code",
   "execution_count": null,
   "metadata": {},
   "outputs": [],
   "source": [
    "subnet = IPv4Network(\"192.168.1.0/24\")\n",
    "available_ips = list(subnet)[1:]\n",
    "f\"{list(subnet)[0]}\""
   ]
  },
  {
   "cell_type": "markdown",
   "metadata": {},
   "source": [
    "### Configure Hosts"
   ]
  },
  {
   "cell_type": "code",
   "execution_count": null,
   "metadata": {},
   "outputs": [],
   "source": [
    "raise\n",
    "# config information\n",
    "host_config_script = \"sudo apt-get update -qq && sudo apt-get install -qq -y python3-scapy && git clone https://github.com/p4lang/tutorials.git/\"\n",
    "\n",
    "# configure server host\n",
    "server_host = slice.get_node(name=server_host_name)        \n",
    "if type(ip_address(server_host.get_management_ip())) is IPv6Address:\n",
    "    stdout, stderr = server_host.execute(\"sudo sed -i '/nameserver/d' /etc/resolv.conf && sudo sh -c 'echo nameserver 2a00:1098:2c::1 >> /etc/resolv.conf' && sudo sh -c 'echo nameserver 2a01:4f8:c2c:123f::1 >> /etc/resolv.conf' && sudo sh -c 'echo nameserver 2a00:1098:2b::1 >> /etc/resolv.conf'\")\n",
    "    print(server_host_name)\n",
    "    print(f\"stdout:\\n{stdout}\\n\")\n",
    "    print(f\"stderr:\\n{stderr}\\n\")\n",
    "server_host_os_iface = server_host.get_interface(network_name=net_server_switch_name)\n",
    "server_host_os_iface.ip_addr_add(addr=server_host_addr, subnet=server_host_subnet)\n",
    "stdout, stderr = server_host.execute(host_config_script)\n",
    "print(server_host_name)\n",
    "print(f\"stdout:\\n{stdout}\\n\")\n",
    "print(f\"stderr:\\n{stderr}\\n\")\n",
    "\n",
    "# configure client host\n",
    "client_host = slice.get_node(name=client_host_name)        \n",
    "if type(ip_address(client_host.get_management_ip())) is IPv6Address:\n",
    "    stdout, stderr = client_host.execute(\"sudo sed -i '/nameserver/d' /etc/resolv.conf && sudo sh -c 'echo nameserver 2a00:1098:2c::1 >> /etc/resolv.conf' && sudo sh -c 'echo nameserver 2a01:4f8:c2c:123f::1 >> /etc/resolv.conf' && sudo sh -c 'echo nameserver 2a00:1098:2b::1 >> /etc/resolv.conf'\")\n",
    "    print(client_host_name)\n",
    "    print(f\"stdout:\\n{stdout}\\n\")\n",
    "    print(f\"stderr:\\n{stderr}\\n\")\n",
    "client_host_os_iface = client_host.get_interface(network_name=net_client_switch_name)\n",
    "client_host_os_iface.ip_addr_add(addr=client_host_addr, subnet=client_host_subnet)\n",
    "stdout, stderr = client_host.execute(host_config_script)\n",
    "print(client_host_name)\n",
    "print(f\"stdout:\\n{stdout}\\n\")\n",
    "print(f\"stderr:\\n{stderr}\\n\")\n"
   ]
  },
  {
   "cell_type": "markdown",
   "metadata": {},
   "source": [
    "### Configure Switches"
   ]
  },
  {
   "cell_type": "code",
   "execution_count": null,
   "metadata": {},
   "outputs": [],
   "source": [
    "server_switch = slice.get_node(name=server_switch_name)\n",
    "server_switch_os_iface = server_switch.get_interface(network_name=net_server_switch_name)\n",
    "switch_switch_os_iface = server_switch.get_interface(network_name=net_switch_switch_name)\n",
    "    \n",
    "if type(ip_address(server_switch.get_management_ip())) is IPv4Address:\n",
    "    management_ip_type = \"IPv4\"\n",
    "else:\n",
    "    management_ip_type = \"IPv6\"\n",
    "\n",
    "file_attributes = server_switch.upload_file(f'{root}/P4_bmv2/scripts/router_setup_p4_bmv2_container.sh','router_setup_p4_bmv2_container.sh')\n",
    "command=f\"chmod +x router_setup_p4_bmv2_container.sh && sudo sh -c './router_setup_p4_bmv2_container.sh  {management_ip_type} {server_switch_os_iface.get_os_interface()} {switch_switch_os_iface.get_os_interface()} > /tmp/script.log 2>&1'\"\n",
    "s1_config_thread = server_switch.execute_thread(command)\n",
    "config_threads[server_switch] = s1_config_thread"
   ]
  },
  {
   "cell_type": "code",
   "execution_count": null,
   "metadata": {},
   "outputs": [],
   "source": [
    "client_switch = slice.get_node(name=client_switch_name)\n",
    "client_switch_os_iface = client_switch.get_interface(network_name=net_client_switch_name)\n",
    "switch_switch_os_iface = client_switch.get_interface(network_name=net_switch_switch_name)\n",
    "    \n",
    "if type(ip_address(client_switch.get_management_ip())) is IPv4Address:\n",
    "    management_ip_type = \"IPv4\"\n",
    "else:\n",
    "    management_ip_type = \"IPv6\"\n",
    "\n",
    "file_attributes = client_switch.upload_file(f'{root}/P4_bmv2/scripts/router_setup_p4_bmv2_container.sh','router_setup_p4_bmv2_container.sh')\n",
    "command=f\"chmod +x router_setup_p4_bmv2_container.sh && sudo sh -c './router_setup_p4_bmv2_container.sh  {management_ip_type} {server_switch_os_iface.get_os_interface()} {switch_switch_os_iface.get_os_interface()} > /tmp/script.log 2>&1'\"\n",
    "s1_config_thread = client_switch.execute_thread(command)\n",
    "config_threads[client_switch] = s1_config_thread"
   ]
  },
  {
   "cell_type": "code",
   "execution_count": null,
   "metadata": {},
   "outputs": [],
   "source": [
    "# print the output of all nodes\n",
    "for node, thread in config_threads.items():\n",
    "  stdout, stderr = thread.result()\n",
    "  print(node.get_username())\n",
    "  print(f\"Config thread node {node.get_name()} complete\")\n",
    "  print(f\"stdout:\\n{stdout}\")\n",
    "  print(f\"stderr:\\n{stderr}\")"
   ]
  },
  {
   "cell_type": "markdown",
   "metadata": {},
   "source": [
    "## Delete Slice"
   ]
  },
  {
   "cell_type": "code",
   "execution_count": null,
   "metadata": {},
   "outputs": [],
   "source": [
    "raise\n",
    "slice = fablib.get_slice(name=slice_name)\n",
    "slice.delete()"
   ]
  },
  {
   "cell_type": "code",
   "execution_count": null,
   "metadata": {},
   "outputs": [],
   "source": []
  }
 ],
 "metadata": {
  "kernelspec": {
   "display_name": "Python 3 (ipykernel)",
   "language": "python",
   "name": "python3"
  },
  "language_info": {
   "codemirror_mode": {
    "name": "ipython",
    "version": 3
   },
   "file_extension": ".py",
   "mimetype": "text/x-python",
   "name": "python",
   "nbconvert_exporter": "python",
   "pygments_lexer": "ipython3",
   "version": "3.9.7"
  },
  "orig_nbformat": 4,
  "vscode": {
   "interpreter": {
    "hash": "e13aa66c9245dde9975eb8a9a4cb9c260e280b6bf5c839dae5dc7c274663985a"
   }
  }
 },
 "nbformat": 4,
 "nbformat_minor": 2
}
