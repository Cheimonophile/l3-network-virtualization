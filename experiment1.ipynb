{
 "cells": [
  {
   "cell_type": "markdown",
   "metadata": {},
   "source": [
    "# Experiment 1"
   ]
  },
  {
   "cell_type": "markdown",
   "metadata": {},
   "source": [
    "### Environment Setup"
   ]
  },
  {
   "cell_type": "code",
   "execution_count": 1,
   "metadata": {},
   "outputs": [
    {
     "name": "stdout",
     "output_type": "stream",
     "text": [
      "Collecting fabrictestbed-extensions==1.3.2rc3\n",
      "  Downloading fabrictestbed_extensions-1.3.2rc3-py3-none-any.whl (374 kB)\n",
      "Requirement already satisfied: fabrictestbed>=1.3.1 in /opt/conda/lib/python3.9/site-packages (from fabrictestbed-extensions==1.3.2rc3) (1.3.1)\n",
      "Requirement already satisfied: paramiko in /opt/conda/lib/python3.9/site-packages (from fabrictestbed-extensions==1.3.2rc3) (2.11.0)\n",
      "Requirement already satisfied: ipyleaflet in /opt/conda/lib/python3.9/site-packages (from fabrictestbed-extensions==1.3.2rc3) (0.17.1)\n",
      "Requirement already satisfied: build in /opt/conda/lib/python3.9/site-packages (from fabrictestbed-extensions==1.3.2rc3) (0.8.0)\n",
      "Collecting jinja2>=3.0.0\n",
      "  Downloading Jinja2-3.1.2-py3-none-any.whl (133 kB)\n",
      "Requirement already satisfied: tabulate in /opt/conda/lib/python3.9/site-packages (from fabrictestbed-extensions==1.3.2rc3) (0.8.10)\n",
      "Requirement already satisfied: ipycytoscape in /opt/conda/lib/python3.9/site-packages (from fabrictestbed-extensions==1.3.2rc3) (1.3.3)\n",
      "Requirement already satisfied: ipywidgets in /opt/conda/lib/python3.9/site-packages (from fabrictestbed-extensions==1.3.2rc3) (8.0.2)\n",
      "Requirement already satisfied: fabric-orchestrator-client==1.3.0 in /opt/conda/lib/python3.9/site-packages (from fabrictestbed>=1.3.1->fabrictestbed-extensions==1.3.2rc3) (1.3.0)\n",
      "Requirement already satisfied: pytest in /opt/conda/lib/python3.9/site-packages (from fabrictestbed>=1.3.1->fabrictestbed-extensions==1.3.2rc3) (7.1.1)\n",
      "Requirement already satisfied: fabric-credmgr-client==1.3.2 in /opt/conda/lib/python3.9/site-packages (from fabrictestbed>=1.3.1->fabrictestbed-extensions==1.3.2rc3) (1.3.2)\n",
      "Requirement already satisfied: click in /opt/conda/lib/python3.9/site-packages (from fabrictestbed>=1.3.1->fabrictestbed-extensions==1.3.2rc3) (7.1.2)\n",
      "Requirement already satisfied: six>=1.10 in /opt/conda/lib/python3.9/site-packages (from fabric-credmgr-client==1.3.2->fabrictestbed>=1.3.1->fabrictestbed-extensions==1.3.2rc3) (1.15.0)\n",
      "Requirement already satisfied: python-dateutil>=2.5.3 in /opt/conda/lib/python3.9/site-packages (from fabric-credmgr-client==1.3.2->fabrictestbed>=1.3.1->fabrictestbed-extensions==1.3.2rc3) (2.8.2)\n",
      "Requirement already satisfied: atomicwrites in /opt/conda/lib/python3.9/site-packages (from fabric-credmgr-client==1.3.2->fabrictestbed>=1.3.1->fabrictestbed-extensions==1.3.2rc3) (1.4.1)\n",
      "Requirement already satisfied: urllib3>=1.15.1 in /opt/conda/lib/python3.9/site-packages (from fabric-credmgr-client==1.3.2->fabrictestbed>=1.3.1->fabrictestbed-extensions==1.3.2rc3) (1.26.5)\n",
      "Requirement already satisfied: setuptools>=21.0.0 in /opt/conda/lib/python3.9/site-packages (from fabric-credmgr-client==1.3.2->fabrictestbed>=1.3.1->fabrictestbed-extensions==1.3.2rc3) (59.2.0)\n",
      "Requirement already satisfied: certifi>=14.05.14 in /opt/conda/lib/python3.9/site-packages (from fabric-credmgr-client==1.3.2->fabrictestbed>=1.3.1->fabrictestbed-extensions==1.3.2rc3) (2020.12.5)\n",
      "Requirement already satisfied: fabric-fim==1.3.0 in /opt/conda/lib/python3.9/site-packages (from fabric-orchestrator-client==1.3.0->fabrictestbed>=1.3.1->fabrictestbed-extensions==1.3.2rc3) (1.3.0)\n",
      "Requirement already satisfied: importlib-metadata==3.7.3 in /opt/conda/lib/python3.9/site-packages (from fabric-fim==1.3.0->fabric-orchestrator-client==1.3.0->fabrictestbed>=1.3.1->fabrictestbed-extensions==1.3.2rc3) (3.7.3)\n",
      "Requirement already satisfied: astroid==2.4.2 in /opt/conda/lib/python3.9/site-packages (from fabric-fim==1.3.0->fabric-orchestrator-client==1.3.0->fabrictestbed>=1.3.1->fabrictestbed-extensions==1.3.2rc3) (2.4.2)\n",
      "Requirement already satisfied: cycler==0.10.0 in /opt/conda/lib/python3.9/site-packages (from fabric-fim==1.3.0->fabric-orchestrator-client==1.3.0->fabrictestbed>=1.3.1->fabrictestbed-extensions==1.3.2rc3) (0.10.0)\n",
      "Requirement already satisfied: kiwisolver==1.3.1 in /opt/conda/lib/python3.9/site-packages (from fabric-fim==1.3.0->fabric-orchestrator-client==1.3.0->fabrictestbed>=1.3.1->fabrictestbed-extensions==1.3.2rc3) (1.3.1)\n",
      "Requirement already satisfied: wrapt==1.12.1 in /opt/conda/lib/python3.9/site-packages (from fabric-fim==1.3.0->fabric-orchestrator-client==1.3.0->fabrictestbed>=1.3.1->fabrictestbed-extensions==1.3.2rc3) (1.12.1)\n",
      "Requirement already satisfied: lazy-object-proxy==1.4.3 in /opt/conda/lib/python3.9/site-packages (from fabric-fim==1.3.0->fabric-orchestrator-client==1.3.0->fabrictestbed>=1.3.1->fabrictestbed-extensions==1.3.2rc3) (1.4.3)\n",
      "Requirement already satisfied: py==1.10.0 in /opt/conda/lib/python3.9/site-packages (from fabric-fim==1.3.0->fabric-orchestrator-client==1.3.0->fabrictestbed>=1.3.1->fabrictestbed-extensions==1.3.2rc3) (1.10.0)\n",
      "Requirement already satisfied: Pygments==2.9.0 in /opt/conda/lib/python3.9/site-packages (from fabric-fim==1.3.0->fabric-orchestrator-client==1.3.0->fabrictestbed>=1.3.1->fabrictestbed-extensions==1.3.2rc3) (2.9.0)\n",
      "Requirement already satisfied: tqdm==4.54.1 in /opt/conda/lib/python3.9/site-packages (from fabric-fim==1.3.0->fabric-orchestrator-client==1.3.0->fabrictestbed>=1.3.1->fabrictestbed-extensions==1.3.2rc3) (4.54.1)\n",
      "Requirement already satisfied: typing-extensions==3.7.4.3 in /opt/conda/lib/python3.9/site-packages (from fabric-fim==1.3.0->fabric-orchestrator-client==1.3.0->fabrictestbed>=1.3.1->fabrictestbed-extensions==1.3.2rc3) (3.7.4.3)\n",
      "Requirement already satisfied: keyring==21.5.0 in /opt/conda/lib/python3.9/site-packages (from fabric-fim==1.3.0->fabric-orchestrator-client==1.3.0->fabrictestbed>=1.3.1->fabrictestbed-extensions==1.3.2rc3) (21.5.0)\n",
      "Requirement already satisfied: mccabe==0.6.1 in /opt/conda/lib/python3.9/site-packages (from fabric-fim==1.3.0->fabric-orchestrator-client==1.3.0->fabrictestbed>=1.3.1->fabrictestbed-extensions==1.3.2rc3) (0.6.1)\n",
      "Requirement already satisfied: iniconfig==1.1.1 in /opt/conda/lib/python3.9/site-packages (from fabric-fim==1.3.0->fabric-orchestrator-client==1.3.0->fabrictestbed>=1.3.1->fabrictestbed-extensions==1.3.2rc3) (1.1.1)\n",
      "Requirement already satisfied: requests==2.27.1 in /opt/conda/lib/python3.9/site-packages (from fabric-fim==1.3.0->fabric-orchestrator-client==1.3.0->fabrictestbed>=1.3.1->fabrictestbed-extensions==1.3.2rc3) (2.27.1)\n",
      "Requirement already satisfied: recordclass==0.14.3 in /opt/conda/lib/python3.9/site-packages (from fabric-fim==1.3.0->fabric-orchestrator-client==1.3.0->fabrictestbed>=1.3.1->fabrictestbed-extensions==1.3.2rc3) (0.14.3)\n",
      "Requirement already satisfied: packaging==20.8 in /opt/conda/lib/python3.9/site-packages (from fabric-fim==1.3.0->fabric-orchestrator-client==1.3.0->fabrictestbed>=1.3.1->fabrictestbed-extensions==1.3.2rc3) (20.8)\n",
      "Requirement already satisfied: pyparsing==2.4.7 in /opt/conda/lib/python3.9/site-packages (from fabric-fim==1.3.0->fabric-orchestrator-client==1.3.0->fabrictestbed>=1.3.1->fabrictestbed-extensions==1.3.2rc3) (2.4.7)\n",
      "Requirement already satisfied: matplotlib==3.5.1 in /opt/conda/lib/python3.9/site-packages (from fabric-fim==1.3.0->fabric-orchestrator-client==1.3.0->fabrictestbed>=1.3.1->fabrictestbed-extensions==1.3.2rc3) (3.5.1)\n",
      "Requirement already satisfied: pipdeptree==1.0.0 in /opt/conda/lib/python3.9/site-packages (from fabric-fim==1.3.0->fabric-orchestrator-client==1.3.0->fabrictestbed>=1.3.1->fabrictestbed-extensions==1.3.2rc3) (1.0.0)\n",
      "Requirement already satisfied: networkx-query==1.0.1 in /opt/conda/lib/python3.9/site-packages (from fabric-fim==1.3.0->fabric-orchestrator-client==1.3.0->fabrictestbed>=1.3.1->fabrictestbed-extensions==1.3.2rc3) (1.0.1)\n",
      "Requirement already satisfied: idna==2.10 in /opt/conda/lib/python3.9/site-packages (from fabric-fim==1.3.0->fabric-orchestrator-client==1.3.0->fabrictestbed>=1.3.1->fabrictestbed-extensions==1.3.2rc3) (2.10)\n",
      "Requirement already satisfied: pytz==2020.1 in /opt/conda/lib/python3.9/site-packages (from fabric-fim==1.3.0->fabric-orchestrator-client==1.3.0->fabrictestbed>=1.3.1->fabrictestbed-extensions==1.3.2rc3) (2020.1)\n",
      "Requirement already satisfied: networkx==2.8 in /opt/conda/lib/python3.9/site-packages (from fabric-fim==1.3.0->fabric-orchestrator-client==1.3.0->fabrictestbed>=1.3.1->fabrictestbed-extensions==1.3.2rc3) (2.8)\n",
      "Requirement already satisfied: pycodestyle==2.6.0 in /opt/conda/lib/python3.9/site-packages (from fabric-fim==1.3.0->fabric-orchestrator-client==1.3.0->fabrictestbed>=1.3.1->fabrictestbed-extensions==1.3.2rc3) (2.6.0)\n",
      "Requirement already satisfied: PyYAML==5.4 in /opt/conda/lib/python3.9/site-packages (from fabric-fim==1.3.0->fabric-orchestrator-client==1.3.0->fabrictestbed>=1.3.1->fabrictestbed-extensions==1.3.2rc3) (5.4)\n",
      "Requirement already satisfied: isort==4.3.21 in /opt/conda/lib/python3.9/site-packages (from fabric-fim==1.3.0->fabric-orchestrator-client==1.3.0->fabrictestbed>=1.3.1->fabrictestbed-extensions==1.3.2rc3) (4.3.21)\n",
      "Requirement already satisfied: pkginfo==1.6.1 in /opt/conda/lib/python3.9/site-packages (from fabric-fim==1.3.0->fabric-orchestrator-client==1.3.0->fabrictestbed>=1.3.1->fabrictestbed-extensions==1.3.2rc3) (1.6.1)\n",
      "Requirement already satisfied: rfc3986==1.4.0 in /opt/conda/lib/python3.9/site-packages (from fabric-fim==1.3.0->fabric-orchestrator-client==1.3.0->fabrictestbed>=1.3.1->fabrictestbed-extensions==1.3.2rc3) (1.4.0)\n",
      "Requirement already satisfied: colorama==0.4.4 in /opt/conda/lib/python3.9/site-packages (from fabric-fim==1.3.0->fabric-orchestrator-client==1.3.0->fabrictestbed>=1.3.1->fabrictestbed-extensions==1.3.2rc3) (0.4.4)\n",
      "Requirement already satisfied: webencodings==0.5.1 in /opt/conda/lib/python3.9/site-packages (from fabric-fim==1.3.0->fabric-orchestrator-client==1.3.0->fabrictestbed>=1.3.1->fabrictestbed-extensions==1.3.2rc3) (0.5.1)\n",
      "Requirement already satisfied: toml==0.10.2 in /opt/conda/lib/python3.9/site-packages (from fabric-fim==1.3.0->fabric-orchestrator-client==1.3.0->fabrictestbed>=1.3.1->fabrictestbed-extensions==1.3.2rc3) (0.10.2)\n",
      "Requirement already satisfied: requests-toolbelt==0.9.1 in /opt/conda/lib/python3.9/site-packages (from fabric-fim==1.3.0->fabric-orchestrator-client==1.3.0->fabrictestbed>=1.3.1->fabrictestbed-extensions==1.3.2rc3) (0.9.1)\n",
      "Requirement already satisfied: bleach==3.3.0 in /opt/conda/lib/python3.9/site-packages (from fabric-fim==1.3.0->fabric-orchestrator-client==1.3.0->fabrictestbed>=1.3.1->fabrictestbed-extensions==1.3.2rc3) (3.3.0)\n",
      "Requirement already satisfied: typed-ast==1.4.1 in /opt/conda/lib/python3.9/site-packages (from fabric-fim==1.3.0->fabric-orchestrator-client==1.3.0->fabrictestbed>=1.3.1->fabrictestbed-extensions==1.3.2rc3) (1.4.1)\n",
      "Requirement already satisfied: neo4j==4.1.0 in /opt/conda/lib/python3.9/site-packages (from fabric-fim==1.3.0->fabric-orchestrator-client==1.3.0->fabrictestbed>=1.3.1->fabrictestbed-extensions==1.3.2rc3) (4.1.0)\n",
      "Requirement already satisfied: readme-renderer==29.0 in /opt/conda/lib/python3.9/site-packages (from fabric-fim==1.3.0->fabric-orchestrator-client==1.3.0->fabrictestbed>=1.3.1->fabrictestbed-extensions==1.3.2rc3) (29.0)\n",
      "Requirement already satisfied: decorator==4.4.2 in /opt/conda/lib/python3.9/site-packages (from fabric-fim==1.3.0->fabric-orchestrator-client==1.3.0->fabrictestbed>=1.3.1->fabrictestbed-extensions==1.3.2rc3) (4.4.2)\n",
      "Requirement already satisfied: attrs>=19.2.0 in /opt/conda/lib/python3.9/site-packages (from pytest->fabrictestbed>=1.3.1->fabrictestbed-extensions==1.3.2rc3) (20.3.0)\n",
      "Requirement already satisfied: pluggy<2.0,>=0.12 in /opt/conda/lib/python3.9/site-packages (from pytest->fabrictestbed>=1.3.1->fabrictestbed-extensions==1.3.2rc3) (0.13.1)\n",
      "Requirement already satisfied: tomli>=1.0.0 in /opt/conda/lib/python3.9/site-packages (from pytest->fabrictestbed>=1.3.1->fabrictestbed-extensions==1.3.2rc3) (2.0.1)\n",
      "Requirement already satisfied: zipp>=0.5 in /opt/conda/lib/python3.9/site-packages (from importlib-metadata==3.7.3->fabric-fim==1.3.0->fabric-orchestrator-client==1.3.0->fabrictestbed>=1.3.1->fabrictestbed-extensions==1.3.2rc3) (3.4.0)\n",
      "Requirement already satisfied: jeepney>=0.4.2 in /opt/conda/lib/python3.9/site-packages (from keyring==21.5.0->fabric-fim==1.3.0->fabric-orchestrator-client==1.3.0->fabrictestbed>=1.3.1->fabrictestbed-extensions==1.3.2rc3) (0.8.0)\n",
      "Requirement already satisfied: SecretStorage>=3.2 in /opt/conda/lib/python3.9/site-packages (from keyring==21.5.0->fabric-fim==1.3.0->fabric-orchestrator-client==1.3.0->fabrictestbed>=1.3.1->fabrictestbed-extensions==1.3.2rc3) (3.3.3)\n",
      "Requirement already satisfied: fonttools>=4.22.0 in /opt/conda/lib/python3.9/site-packages (from matplotlib==3.5.1->fabric-fim==1.3.0->fabric-orchestrator-client==1.3.0->fabrictestbed>=1.3.1->fabrictestbed-extensions==1.3.2rc3) (4.37.4)\n",
      "Requirement already satisfied: numpy>=1.17 in /opt/conda/lib/python3.9/site-packages (from matplotlib==3.5.1->fabric-fim==1.3.0->fabric-orchestrator-client==1.3.0->fabrictestbed>=1.3.1->fabrictestbed-extensions==1.3.2rc3) (1.23.3)\n",
      "Requirement already satisfied: pillow>=6.2.0 in /opt/conda/lib/python3.9/site-packages (from matplotlib==3.5.1->fabric-fim==1.3.0->fabric-orchestrator-client==1.3.0->fabrictestbed>=1.3.1->fabrictestbed-extensions==1.3.2rc3) (9.2.0)\n",
      "Requirement already satisfied: pip>=6.0.0 in /opt/conda/lib/python3.9/site-packages (from pipdeptree==1.0.0->fabric-fim==1.3.0->fabric-orchestrator-client==1.3.0->fabrictestbed>=1.3.1->fabrictestbed-extensions==1.3.2rc3) (21.3.1)\n",
      "Requirement already satisfied: docutils>=0.13.1 in /opt/conda/lib/python3.9/site-packages (from readme-renderer==29.0->fabric-fim==1.3.0->fabric-orchestrator-client==1.3.0->fabrictestbed>=1.3.1->fabrictestbed-extensions==1.3.2rc3) (0.17.1)\n",
      "Requirement already satisfied: charset-normalizer~=2.0.0 in /opt/conda/lib/python3.9/site-packages (from requests==2.27.1->fabric-fim==1.3.0->fabric-orchestrator-client==1.3.0->fabrictestbed>=1.3.1->fabrictestbed-extensions==1.3.2rc3) (2.0.0)\n",
      "Collecting MarkupSafe>=2.0\n",
      "  Downloading MarkupSafe-2.1.1-cp39-cp39-manylinux_2_17_x86_64.manylinux2014_x86_64.whl (25 kB)\n",
      "Requirement already satisfied: pep517>=0.9.1 in /opt/conda/lib/python3.9/site-packages (from build->fabrictestbed-extensions==1.3.2rc3) (0.13.0)\n",
      "Requirement already satisfied: spectate>=1.0.0 in /opt/conda/lib/python3.9/site-packages (from ipycytoscape->fabrictestbed-extensions==1.3.2rc3) (1.0.1)\n",
      "Requirement already satisfied: traitlets>=4.3.1 in /opt/conda/lib/python3.9/site-packages (from ipywidgets->fabrictestbed-extensions==1.3.2rc3) (5.1.1)\n",
      "Requirement already satisfied: jupyterlab-widgets~=3.0 in /opt/conda/lib/python3.9/site-packages (from ipywidgets->fabrictestbed-extensions==1.3.2rc3) (3.0.3)\n",
      "Requirement already satisfied: ipython>=6.1.0 in /opt/conda/lib/python3.9/site-packages (from ipywidgets->fabrictestbed-extensions==1.3.2rc3) (7.29.0)\n",
      "Requirement already satisfied: ipykernel>=4.5.1 in /opt/conda/lib/python3.9/site-packages (from ipywidgets->fabrictestbed-extensions==1.3.2rc3) (6.5.0)\n",
      "Requirement already satisfied: widgetsnbextension~=4.0 in /opt/conda/lib/python3.9/site-packages (from ipywidgets->fabrictestbed-extensions==1.3.2rc3) (4.0.3)\n",
      "Requirement already satisfied: xyzservices>=2021.8.1 in /opt/conda/lib/python3.9/site-packages (from ipyleaflet->fabrictestbed-extensions==1.3.2rc3) (2022.9.0)\n",
      "Requirement already satisfied: traittypes<3,>=0.2.1 in /opt/conda/lib/python3.9/site-packages (from ipyleaflet->fabrictestbed-extensions==1.3.2rc3) (0.2.1)\n",
      "Requirement already satisfied: branca>=0.5.0 in /opt/conda/lib/python3.9/site-packages (from ipyleaflet->fabrictestbed-extensions==1.3.2rc3) (0.5.0)\n",
      "Requirement already satisfied: cryptography>=2.5 in /opt/conda/lib/python3.9/site-packages (from paramiko->fabrictestbed-extensions==1.3.2rc3) (3.3.2)\n",
      "Requirement already satisfied: bcrypt>=3.1.3 in /opt/conda/lib/python3.9/site-packages (from paramiko->fabrictestbed-extensions==1.3.2rc3) (4.0.0)\n",
      "Requirement already satisfied: pynacl>=1.0.1 in /opt/conda/lib/python3.9/site-packages (from paramiko->fabrictestbed-extensions==1.3.2rc3) (1.5.0)\n",
      "Requirement already satisfied: cffi>=1.12 in /opt/conda/lib/python3.9/site-packages (from cryptography>=2.5->paramiko->fabrictestbed-extensions==1.3.2rc3) (1.14.4)\n",
      "Requirement already satisfied: jupyter-client<8.0 in /opt/conda/lib/python3.9/site-packages (from ipykernel>=4.5.1->ipywidgets->fabrictestbed-extensions==1.3.2rc3) (7.0.6)\n",
      "Requirement already satisfied: matplotlib-inline<0.2.0,>=0.1.0 in /opt/conda/lib/python3.9/site-packages (from ipykernel>=4.5.1->ipywidgets->fabrictestbed-extensions==1.3.2rc3) (0.1.3)\n",
      "Requirement already satisfied: debugpy<2.0,>=1.0.0 in /opt/conda/lib/python3.9/site-packages (from ipykernel>=4.5.1->ipywidgets->fabrictestbed-extensions==1.3.2rc3) (1.5.1)\n",
      "Requirement already satisfied: tornado<7.0,>=4.2 in /opt/conda/lib/python3.9/site-packages (from ipykernel>=4.5.1->ipywidgets->fabrictestbed-extensions==1.3.2rc3) (6.1)\n",
      "Requirement already satisfied: backcall in /opt/conda/lib/python3.9/site-packages (from ipython>=6.1.0->ipywidgets->fabrictestbed-extensions==1.3.2rc3) (0.2.0)\n",
      "Requirement already satisfied: prompt-toolkit!=3.0.0,!=3.0.1,<3.1.0,>=2.0.0 in /opt/conda/lib/python3.9/site-packages (from ipython>=6.1.0->ipywidgets->fabrictestbed-extensions==1.3.2rc3) (3.0.22)\n",
      "Requirement already satisfied: pexpect>4.3 in /opt/conda/lib/python3.9/site-packages (from ipython>=6.1.0->ipywidgets->fabrictestbed-extensions==1.3.2rc3) (4.8.0)\n",
      "Requirement already satisfied: jedi>=0.16 in /opt/conda/lib/python3.9/site-packages (from ipython>=6.1.0->ipywidgets->fabrictestbed-extensions==1.3.2rc3) (0.18.1)\n",
      "Requirement already satisfied: pickleshare in /opt/conda/lib/python3.9/site-packages (from ipython>=6.1.0->ipywidgets->fabrictestbed-extensions==1.3.2rc3) (0.7.5)\n",
      "Requirement already satisfied: pycparser in /opt/conda/lib/python3.9/site-packages (from cffi>=1.12->cryptography>=2.5->paramiko->fabrictestbed-extensions==1.3.2rc3) (2.20)\n",
      "Requirement already satisfied: parso<0.9.0,>=0.8.0 in /opt/conda/lib/python3.9/site-packages (from jedi>=0.16->ipython>=6.1.0->ipywidgets->fabrictestbed-extensions==1.3.2rc3) (0.8.2)\n",
      "Requirement already satisfied: pyzmq>=13 in /opt/conda/lib/python3.9/site-packages (from jupyter-client<8.0->ipykernel>=4.5.1->ipywidgets->fabrictestbed-extensions==1.3.2rc3) (22.3.0)\n",
      "Requirement already satisfied: jupyter-core>=4.6.0 in /opt/conda/lib/python3.9/site-packages (from jupyter-client<8.0->ipykernel>=4.5.1->ipywidgets->fabrictestbed-extensions==1.3.2rc3) (4.9.1)\n",
      "Requirement already satisfied: nest-asyncio>=1.5 in /opt/conda/lib/python3.9/site-packages (from jupyter-client<8.0->ipykernel>=4.5.1->ipywidgets->fabrictestbed-extensions==1.3.2rc3) (1.5.1)\n",
      "Requirement already satisfied: entrypoints in /opt/conda/lib/python3.9/site-packages (from jupyter-client<8.0->ipykernel>=4.5.1->ipywidgets->fabrictestbed-extensions==1.3.2rc3) (0.3)\n",
      "Requirement already satisfied: ptyprocess>=0.5 in /opt/conda/lib/python3.9/site-packages (from pexpect>4.3->ipython>=6.1.0->ipywidgets->fabrictestbed-extensions==1.3.2rc3) (0.7.0)\n",
      "Requirement already satisfied: wcwidth in /opt/conda/lib/python3.9/site-packages (from prompt-toolkit!=3.0.0,!=3.0.1,<3.1.0,>=2.0.0->ipython>=6.1.0->ipywidgets->fabrictestbed-extensions==1.3.2rc3) (0.2.5)\n",
      "Installing collected packages: MarkupSafe, jinja2, fabrictestbed-extensions\n",
      "Successfully installed MarkupSafe-2.1.1 fabrictestbed-extensions-1.3.2rc3 jinja2-3.1.2\n",
      "/home/fabric/work\n"
     ]
    },
    {
     "name": "stderr",
     "output_type": "stream",
     "text": [
      "ERROR: pip's dependency resolver does not currently take into account all the packages that are installed. This behaviour is the source of the following dependency conflicts.\n",
      "fabric-fss-utils 1.2.2 requires Jinja2==2.11.3, but you have jinja2 3.1.2 which is incompatible.\n",
      "fabric-fss-utils 1.2.2 requires MarkupSafe==1.1.1, but you have markupsafe 2.1.1 which is incompatible.\n"
     ]
    }
   ],
   "source": [
    "%%bash -s\n",
    "\n",
    "# set root folder and get environment\n",
    "export root=\"/home/fabric/work\"\n",
    "source $root/env\n",
    "pwd"
   ]
  },
  {
   "cell_type": "code",
   "execution_count": 2,
   "metadata": {},
   "outputs": [
    {
     "name": "stdout",
     "output_type": "stream",
     "text": [
      "-----------------------------------  ---------------------------------------\n",
      "credmgr_host                         cm.fabric-testbed.net\n",
      "orchestrator_host                    orchestrator.fabric-testbed.net\n",
      "fabric_token                         /home/fabric/.tokens.json\n",
      "project_id                           6ce270de-788d-4e07-8bae-3206860a6387\n",
      "bastion_username                     brmclemo_0000026977\n",
      "bastion_key_filename                 /home/fabric/work/ssh/fabric-bastion\n",
      "bastion_public_addr                  bastion-1.fabric-testbed.net\n",
      "bastion_passphrase                   None\n",
      "slice_public_key_file                /home/fabric/work/ssh/fabric-sliver.pub\n",
      "slice_private_key_file               /home/fabric/work/ssh/fabric-sliver\n",
      "fabric_slice_private_key_passphrase  None\n",
      "fablib_log_file                      /tmp/fablib/fablib.log\n",
      "fablib_log_level                     INFO\n",
      "-----------------------------------  ---------------------------------------\n",
      "server_site='UTAH', client_site='DALL'\n"
     ]
    }
   ],
   "source": [
    "# imports\n",
    "import os\n",
    "import json\n",
    "import traceback\n",
    "from fabrictestbed_extensions.fablib.fablib import FablibManager as fablib_manager\n",
    "from fabrictestbed_extensions.fablib.node import Node\n",
    "from threading import Thread\n",
    "from ipaddress import ip_address, IPv4Address, IPv6Address, IPv4Network, IPv6Network\n",
    "import uuid\n",
    "from collections import defaultdict\n",
    "\n",
    "# show fablib config\n",
    "fablib = fablib_manager()             \n",
    "fablib.show_config()\n",
    "\n",
    "# constants\n",
    "root = \"/home/fabric/work\"\n",
    "\n",
    "# component names\n",
    "slice_name = \"experiment-1\"\n",
    "server_site, client_site = fablib.get_random_sites(count=2, avoid=['AL2S','STAR', 'MAX'])\n",
    "print(f\"{server_site=}, {client_site=}\")\n",
    "\n",
    "# switch detail\n",
    "client_switch_name = \"client-switch\"\n",
    "server_switch_name = \"server-switch\"\n",
    "switch_cores = 2\n",
    "switch_ram = 8\n",
    "switch_disk = 100\n",
    "\n",
    "# host details\n",
    "client_host_name = \"client-host\"\n",
    "server_host_name = \"server-host\"\n",
    "image = 'default_ubuntu_20'\n",
    "server_host_subnet=IPv4Network('10.0.1.0/24')\n",
    "server_host_addr=IPv4Address('10.0.1.1')\n",
    "client_host_subnet=IPv4Network('10.0.2.0/24')\n",
    "client_host_addr=IPv4Address('10.0.2.2')\n",
    "\n",
    "# network details\n",
    "net_server_switch_name = \"net-server-switch\"\n",
    "net_client_switch_name = \"net-client-switch\"\n",
    "net_switch_switch_name = \"net-switch-switch\""
   ]
  },
  {
   "cell_type": "code",
   "execution_count": 3,
   "metadata": {},
   "outputs": [],
   "source": [
    "# some helper functions\n",
    "__id_counter = defaultdict(int)\n",
    "def id(name=None):\n",
    "  global __id_counter\n",
    "  __id_counter[name] += 1\n",
    "  return f\"{name}-{str(__id_counter[name]).zfill(4)}\""
   ]
  },
  {
   "cell_type": "markdown",
   "metadata": {},
   "source": [
    "## Setup Network"
   ]
  },
  {
   "cell_type": "code",
   "execution_count": 4,
   "metadata": {},
   "outputs": [
    {
     "name": "stdout",
     "output_type": "stream",
     "text": [
      "\n",
      "-----------  ------------------------------------\n",
      "Slice Name   experiment-1\n",
      "Slice ID     f70fd147-94a7-45bb-b219-844666d1b51c\n",
      "Slice State  StableOK\n",
      "Lease End    2022-11-14 16:48:55 +0000\n",
      "-----------  ------------------------------------\n",
      "\n",
      "Retry: 13, Time: 192 sec\n",
      "\n",
      "ID                                    Name           Site    Host                          Cores    RAM    Disk  Image              Management IP                           State    Error\n",
      "------------------------------------  -------------  ------  --------------------------  -------  -----  ------  -----------------  --------------------------------------  -------  -------\n",
      "84cd86e5-092b-4f5a-af82-7973fd738d6b  server-switch  UTAH    utah-w5.fabric-testbed.net        2      8      10  default_ubuntu_20  2001:1948:417:7:f816:3eff:fef3:835d     Active\n",
      "d29d4bed-3075-4396-a0cb-ce82fd167506  client-switch  DALL    dall-w1.fabric-testbed.net        2      8      10  default_ubuntu_20  2001:400:a100:3000:f816:3eff:fe30:cedd  Active\n",
      "07aa7d9f-8ae9-49e8-93a0-342983b4ef06  server-host    UTAH    utah-w5.fabric-testbed.net        2      8      10  default_ubuntu_20  2001:1948:417:7:f816:3eff:fe88:4488     Active\n",
      "aa89da5a-9699-4655-80e9-fac5dadf555e  client-host    DALL    dall-w1.fabric-testbed.net        2      8      10  default_ubuntu_20  2001:400:a100:3000:f816:3eff:fe25:4ea5  Active\n",
      "\n",
      "Time to stable 192 seconds\n",
      "Running post_boot_config ... Time to post boot config 214 seconds\n",
      "\n",
      "Name                       Node           Network              Bandwidth  VLAN    MAC                Physical OS Interface    OS Interface\n",
      "-------------------------  -------------  -----------------  -----------  ------  -----------------  -----------------------  --------------\n",
      "server-switch-nic-0002-p1  server-switch  net-switch-switch            0          1E:89:A8:55:78:19  ens7                     ens7\n",
      "server-switch-nic-0001-p1  server-switch  net-server-switch            0          2A:37:69:25:61:58  ens8                     ens8\n",
      "client-switch-nic-0003-p1  client-switch  net-client-switch            0          1E:6B:F9:58:37:ED  ens8                     ens8\n",
      "client-switch-nic-0004-p1  client-switch  net-switch-switch            0          16:43:28:3B:FE:F6  ens7                     ens7\n",
      "server-host-nic-0005-p1    server-host    net-server-switch            0          2E:D4:AF:35:51:2F  ens7                     ens7\n",
      "client-host-nic-0006-p1    client-host    net-client-switch            0          1E:75:8E:3C:A5:DA  ens7                     ens7\n",
      "\n",
      "Time to print interfaces 235 seconds\n"
     ]
    },
    {
     "data": {
      "text/plain": [
       "'f70fd147-94a7-45bb-b219-844666d1b51c'"
      ]
     },
     "execution_count": 4,
     "metadata": {},
     "output_type": "execute_result"
    }
   ],
   "source": [
    "\n",
    "# create the slice\n",
    "slice = fablib.new_slice(name=slice_name)\n",
    "\n",
    "# add server switch\n",
    "server_switch = slice.add_node(name=server_switch_name, site=server_site, image=image)\n",
    "server_switch_iface_host = server_switch.add_component(model='NIC_Basic', name=id('nic')).get_interfaces()[0]\n",
    "server_switch_iface_client_switch = server_switch.add_component(model='NIC_Basic', name=id('nic')).get_interfaces()[0]\n",
    "\n",
    "# add client switch\n",
    "client_switch = slice.add_node(name=client_switch_name, site=client_site, image=image)\n",
    "client_switch_iface_host = client_switch.add_component(model='NIC_Basic', name=id('nic')).get_interfaces()[0]\n",
    "client_switch_iface_server_switch = client_switch.add_component(model='NIC_Basic', name=id('nic')).get_interfaces()[0]\n",
    "\n",
    "# add server host\n",
    "server_host = slice.add_node(name=server_host_name, site=server_site, image=image)\n",
    "server_host_iface = server_host.add_component(model='NIC_Basic', name=id('nic')).get_interfaces()[0]\n",
    "\n",
    "# add client host\n",
    "client_host = slice.add_node(name=client_host_name, site=client_site, image=image)\n",
    "client_host_iface = client_host.add_component(model='NIC_Basic', name=id('nic')).get_interfaces()[0]\n",
    "\n",
    "# add networks\n",
    "server_switch_net = slice.add_l2network(name=net_server_switch_name, interfaces=[server_switch_iface_host, server_host_iface])\n",
    "client_switch_net = slice.add_l2network(name=net_client_switch_name, interfaces=[client_switch_iface_host, client_host_iface])\n",
    "switch_switch_net = slice.add_l2network(name=net_switch_switch_name, interfaces=[server_switch_iface_client_switch, client_switch_iface_server_switch])\n",
    "\n",
    "# submit slice for creation\n",
    "slice.submit()\n"
   ]
  },
  {
   "cell_type": "code",
   "execution_count": 5,
   "metadata": {},
   "outputs": [
    {
     "name": "stdout",
     "output_type": "stream",
     "text": [
      "node_name='server-switch'\n",
      "iface_name='server-switch-nic-0001-p1'\n",
      "iface_name='server-switch-nic-0002-p1'\n",
      "node_name='client-switch'\n",
      "iface_name='client-switch-nic-0003-p1'\n",
      "iface_name='client-switch-nic-0004-p1'\n",
      "node_name='server-host'\n",
      "iface_name='server-host-nic-0005-p1'\n",
      "node_name='client-host'\n",
      "iface_name='client-host-nic-0006-p1'\n"
     ]
    }
   ],
   "source": [
    "# set up nodes\n",
    "ip_addrs = dict()\n",
    "slice = fablib.get_slice(name=slice_name)\n",
    "l2_available_addrs = list(l2_subnet := IPv4Network(\"192.168.2.0/24\"))[1:]\n",
    "l3_available_addrs = list(l3_subnet := IPv4Network(\"192.168.3.0/24\"))[1:]\n",
    "node_addrs = defaultdict(lambda: l2_available_addrs.pop(0))\n",
    "for node in slice.get_nodes():\n",
    "  node_name = node.get_name()\n",
    "  print(f\"{node_name=}\")\n",
    "\n",
    "  # setup\n",
    "  node.execute(\"sudo apt update && sudo apt install net-tools && pip install netifaces\")\n",
    "  node.upload_directory('code','~')\n",
    "\n",
    "  # give ip to all nodes\n",
    "  for iface in node.get_interfaces():\n",
    "    iface_name = iface.get_name()\n",
    "    print(f\"{iface_name=}\")\n",
    "    iface.ip_addr_add(addr=node_addrs[node_name], subnet=l2_subnet)\n",
    "    iface.ip_link_up()\n",
    "    \n",
    "  if 'host' in node_name:\n",
    "    node.ip_route_add(subnet=l3_subnet, gateway=node_addrs[f\"{node_name[:-5]}-switch\"])\n"
   ]
  },
  {
   "cell_type": "code",
   "execution_count": null,
   "metadata": {},
   "outputs": [],
   "source": [
    "\n",
    "  "
   ]
  },
  {
   "cell_type": "code",
   "execution_count": 6,
   "metadata": {},
   "outputs": [
    {
     "ename": "AttributeError",
     "evalue": "'NetworkService' object has no attribute 'show'",
     "output_type": "error",
     "traceback": [
      "\u001b[0;31m---------------------------------------------------------------------------\u001b[0m",
      "\u001b[0;31mAttributeError\u001b[0m                            Traceback (most recent call last)",
      "\u001b[0;32m/tmp/ipykernel_91/73652393.py\u001b[0m in \u001b[0;36m<module>\u001b[0;34m\u001b[0m\n\u001b[1;32m      3\u001b[0m \u001b[0mslice\u001b[0m \u001b[0;34m=\u001b[0m \u001b[0mfablib\u001b[0m\u001b[0;34m.\u001b[0m\u001b[0mget_slice\u001b[0m\u001b[0;34m(\u001b[0m\u001b[0mname\u001b[0m\u001b[0;34m=\u001b[0m\u001b[0mslice_name\u001b[0m\u001b[0;34m)\u001b[0m\u001b[0;34m\u001b[0m\u001b[0;34m\u001b[0m\u001b[0m\n\u001b[1;32m      4\u001b[0m \u001b[0;32mfor\u001b[0m \u001b[0mnet\u001b[0m \u001b[0;32min\u001b[0m \u001b[0mslice\u001b[0m\u001b[0;34m.\u001b[0m\u001b[0mget_l2networks\u001b[0m\u001b[0;34m(\u001b[0m\u001b[0;34m)\u001b[0m\u001b[0;34m:\u001b[0m\u001b[0;34m\u001b[0m\u001b[0;34m\u001b[0m\u001b[0m\n\u001b[0;32m----> 5\u001b[0;31m   \u001b[0mnet\u001b[0m\u001b[0;34m.\u001b[0m\u001b[0mshow\u001b[0m\u001b[0;34m(\u001b[0m\u001b[0;34m)\u001b[0m\u001b[0;34m\u001b[0m\u001b[0;34m\u001b[0m\u001b[0m\n\u001b[0m",
      "\u001b[0;31mAttributeError\u001b[0m: 'NetworkService' object has no attribute 'show'"
     ]
    }
   ],
   "source": [
    "# install and start server switch\n",
    "raise\n",
    "slice = fablib.get_slice(name=slice_name)\n",
    "for net in slice.get_l2networks():\n",
    "  net.show()"
   ]
  },
  {
   "cell_type": "markdown",
   "metadata": {},
   "source": [
    "## Configure Network Components"
   ]
  },
  {
   "cell_type": "code",
   "execution_count": null,
   "metadata": {},
   "outputs": [],
   "source": [
    "subnet = IPv4Network(\"192.168.1.0/24\")\n",
    "available_ips = list(subnet)[1:]\n",
    "f\"{list(subnet)[0]}\""
   ]
  },
  {
   "cell_type": "markdown",
   "metadata": {},
   "source": [
    "### Configure Hosts"
   ]
  },
  {
   "cell_type": "code",
   "execution_count": null,
   "metadata": {},
   "outputs": [],
   "source": [
    "raise\n",
    "# config information\n",
    "host_config_script = \"sudo apt-get update -qq && sudo apt-get install -qq -y python3-scapy && git clone https://github.com/p4lang/tutorials.git/\"\n",
    "\n",
    "# configure server host\n",
    "server_host = slice.get_node(name=server_host_name)        \n",
    "if type(ip_address(server_host.get_management_ip())) is IPv6Address:\n",
    "    stdout, stderr = server_host.execute(\"sudo sed -i '/nameserver/d' /etc/resolv.conf && sudo sh -c 'echo nameserver 2a00:1098:2c::1 >> /etc/resolv.conf' && sudo sh -c 'echo nameserver 2a01:4f8:c2c:123f::1 >> /etc/resolv.conf' && sudo sh -c 'echo nameserver 2a00:1098:2b::1 >> /etc/resolv.conf'\")\n",
    "    print(server_host_name)\n",
    "    print(f\"stdout:\\n{stdout}\\n\")\n",
    "    print(f\"stderr:\\n{stderr}\\n\")\n",
    "server_host_os_iface = server_host.get_interface(network_name=net_server_switch_name)\n",
    "server_host_os_iface.ip_addr_add(addr=server_host_addr, subnet=server_host_subnet)\n",
    "stdout, stderr = server_host.execute(host_config_script)\n",
    "print(server_host_name)\n",
    "print(f\"stdout:\\n{stdout}\\n\")\n",
    "print(f\"stderr:\\n{stderr}\\n\")\n",
    "\n",
    "# configure client host\n",
    "client_host = slice.get_node(name=client_host_name)        \n",
    "if type(ip_address(client_host.get_management_ip())) is IPv6Address:\n",
    "    stdout, stderr = client_host.execute(\"sudo sed -i '/nameserver/d' /etc/resolv.conf && sudo sh -c 'echo nameserver 2a00:1098:2c::1 >> /etc/resolv.conf' && sudo sh -c 'echo nameserver 2a01:4f8:c2c:123f::1 >> /etc/resolv.conf' && sudo sh -c 'echo nameserver 2a00:1098:2b::1 >> /etc/resolv.conf'\")\n",
    "    print(client_host_name)\n",
    "    print(f\"stdout:\\n{stdout}\\n\")\n",
    "    print(f\"stderr:\\n{stderr}\\n\")\n",
    "client_host_os_iface = client_host.get_interface(network_name=net_client_switch_name)\n",
    "client_host_os_iface.ip_addr_add(addr=client_host_addr, subnet=client_host_subnet)\n",
    "stdout, stderr = client_host.execute(host_config_script)\n",
    "print(client_host_name)\n",
    "print(f\"stdout:\\n{stdout}\\n\")\n",
    "print(f\"stderr:\\n{stderr}\\n\")\n"
   ]
  },
  {
   "cell_type": "markdown",
   "metadata": {},
   "source": [
    "### Configure Switches"
   ]
  },
  {
   "cell_type": "code",
   "execution_count": null,
   "metadata": {},
   "outputs": [],
   "source": [
    "server_switch = slice.get_node(name=server_switch_name)\n",
    "server_switch_os_iface = server_switch.get_interface(network_name=net_server_switch_name)\n",
    "switch_switch_os_iface = server_switch.get_interface(network_name=net_switch_switch_name)\n",
    "    \n",
    "if type(ip_address(server_switch.get_management_ip())) is IPv4Address:\n",
    "    management_ip_type = \"IPv4\"\n",
    "else:\n",
    "    management_ip_type = \"IPv6\"\n",
    "\n",
    "file_attributes = server_switch.upload_file(f'{root}/P4_bmv2/scripts/router_setup_p4_bmv2_container.sh','router_setup_p4_bmv2_container.sh')\n",
    "command=f\"chmod +x router_setup_p4_bmv2_container.sh && sudo sh -c './router_setup_p4_bmv2_container.sh  {management_ip_type} {server_switch_os_iface.get_os_interface()} {switch_switch_os_iface.get_os_interface()} > /tmp/script.log 2>&1'\"\n",
    "s1_config_thread = server_switch.execute_thread(command)\n",
    "config_threads[server_switch] = s1_config_thread"
   ]
  },
  {
   "cell_type": "code",
   "execution_count": null,
   "metadata": {},
   "outputs": [],
   "source": [
    "client_switch = slice.get_node(name=client_switch_name)\n",
    "client_switch_os_iface = client_switch.get_interface(network_name=net_client_switch_name)\n",
    "switch_switch_os_iface = client_switch.get_interface(network_name=net_switch_switch_name)\n",
    "    \n",
    "if type(ip_address(client_switch.get_management_ip())) is IPv4Address:\n",
    "    management_ip_type = \"IPv4\"\n",
    "else:\n",
    "    management_ip_type = \"IPv6\"\n",
    "\n",
    "file_attributes = client_switch.upload_file(f'{root}/P4_bmv2/scripts/router_setup_p4_bmv2_container.sh','router_setup_p4_bmv2_container.sh')\n",
    "command=f\"chmod +x router_setup_p4_bmv2_container.sh && sudo sh -c './router_setup_p4_bmv2_container.sh  {management_ip_type} {server_switch_os_iface.get_os_interface()} {switch_switch_os_iface.get_os_interface()} > /tmp/script.log 2>&1'\"\n",
    "s1_config_thread = client_switch.execute_thread(command)\n",
    "config_threads[client_switch] = s1_config_thread"
   ]
  },
  {
   "cell_type": "code",
   "execution_count": null,
   "metadata": {},
   "outputs": [],
   "source": [
    "# print the output of all nodes\n",
    "for node, thread in config_threads.items():\n",
    "  stdout, stderr = thread.result()\n",
    "  print(node.get_username())\n",
    "  print(f\"Config thread node {node.get_name()} complete\")\n",
    "  print(f\"stdout:\\n{stdout}\")\n",
    "  print(f\"stderr:\\n{stderr}\")"
   ]
  },
  {
   "cell_type": "markdown",
   "metadata": {},
   "source": [
    "## Delete Slice"
   ]
  },
  {
   "cell_type": "code",
   "execution_count": null,
   "metadata": {},
   "outputs": [],
   "source": [
    "raise\n",
    "slice = fablib.get_slice(name=slice_name)\n",
    "slice.delete()"
   ]
  },
  {
   "cell_type": "code",
   "execution_count": null,
   "metadata": {},
   "outputs": [],
   "source": []
  }
 ],
 "metadata": {
  "kernelspec": {
   "display_name": "Python 3 (ipykernel)",
   "language": "python",
   "name": "python3"
  },
  "language_info": {
   "codemirror_mode": {
    "name": "ipython",
    "version": 3
   },
   "file_extension": ".py",
   "mimetype": "text/x-python",
   "name": "python",
   "nbconvert_exporter": "python",
   "pygments_lexer": "ipython3",
   "version": "3.9.7"
  },
  "orig_nbformat": 4,
  "vscode": {
   "interpreter": {
    "hash": "b0fa6594d8f4cbf19f97940f81e996739fb7646882a419484c72d19e05852a7e"
   }
  }
 },
 "nbformat": 4,
 "nbformat_minor": 2
}
