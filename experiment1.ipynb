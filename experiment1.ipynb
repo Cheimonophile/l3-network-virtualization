{
 "cells": [
  {
   "cell_type": "markdown",
   "metadata": {},
   "source": [
    "# Experiment 1"
   ]
  },
  {
   "cell_type": "markdown",
   "metadata": {},
   "source": [
    "### Environment Setup"
   ]
  },
  {
   "cell_type": "code",
   "execution_count": 1,
   "metadata": {},
   "outputs": [],
   "source": [
    "%%bash -s\n",
    "\n",
    "# set root folder and get environment\n",
    "export root=\"/home/fabric/work\"\n",
    "source $root/env"
   ]
  },
  {
   "cell_type": "code",
   "execution_count": 2,
   "metadata": {},
   "outputs": [],
   "source": [
    "# imports\n",
    "import os\n",
    "import json\n",
    "import traceback\n",
    "from fabrictestbed_extensions.fablib.fablib import fablib\n",
    "from ipaddress import ip_address, IPv4Address, IPv6Address, IPv4Network, IPv6Network\n",
    "import uuid\n",
    "from collections import defaultdict\n",
    "\n",
    "# constants\n",
    "root = \"/home/fabric/work\"\n",
    "\n",
    "# component names\n",
    "slice_name = \"experiment1\"\n",
    "server_site, client_site = fablib.get_random_sites(count=2)\n",
    "\n",
    "# switch detail\n",
    "client_switch_name = \"client-switch\"\n",
    "server_switch_name = \"server-switch\"\n",
    "switch_cores = 2\n",
    "switch_ram = 8\n",
    "switch_disk = 100\n",
    "\n",
    "# host details\n",
    "client_host_name = \"client-host\"\n",
    "server_host_name = \"server-host\"\n",
    "image = 'default_ubuntu_20'\n",
    "server_host_subnet=IPv4Network('10.0.1.0/24')\n",
    "server_host_addr=IPv4Address('10.0.1.1')\n",
    "client_host_subnet=IPv4Network('10.0.2.0/24')\n",
    "client_host_addr=IPv4Address('10.0.2.2')\n",
    "\n",
    "# network details\n",
    "server_switch_net_name = \"net-server-switch\"\n",
    "client_switch_net_name = \"net-client-switch\"\n",
    "switch_switch_net_name = \"net-switch-switch\""
   ]
  },
  {
   "cell_type": "code",
   "execution_count": 3,
   "metadata": {},
   "outputs": [],
   "source": [
    "# some helper function\n",
    "__id_counter = defaultdict(int)\n",
    "def id(name=None):\n",
    "  global __id_counter\n",
    "  __id_counter[name] += 1\n",
    "  return f\"{name}-{str(__id_counter[name]).zfill(4)}\""
   ]
  },
  {
   "cell_type": "markdown",
   "metadata": {},
   "source": [
    "## Setup Network"
   ]
  },
  {
   "cell_type": "code",
   "execution_count": 5,
   "metadata": {},
   "outputs": [
    {
     "name": "stdout",
     "output_type": "stream",
     "text": [
      "\n",
      "-----------  ------------------------------------\n",
      "Slice Name   experiment1\n",
      "Slice ID     c00541eb-522b-4439-b30d-5926d023dc34\n",
      "Slice State  Configuring\n",
      "Lease End    2022-10-30 01:19:47 +0000\n",
      "-----------  ------------------------------------\n",
      "\n",
      "Retry: 48, Time: 608 sec\n",
      "\n",
      "ID                                    Name           Site    Host                          Cores    RAM    Disk  Image              Management IP                           State    Error\n",
      "------------------------------------  -------------  ------  --------------------------  -------  -----  ------  -----------------  --------------------------------------  -------  -------\n",
      "21e20526-9d12-4403-8435-b2fc7a9dc875  server-switch  DALL    dall-w2.fabric-testbed.net        2      8     100  default_ubuntu_20  2001:400:a100:3000:f816:3eff:fece:29b0  Active\n",
      "256a3729-c916-43b0-bdcf-6c5a2c239652  client-switch  TACC    tacc-w5.fabric-testbed.net        2      8     100  default_ubuntu_20  129.114.110.123                         Active\n",
      "d68f6a41-9aa0-43c8-9cf6-231cbf0be2cf  server-host    CLEM    clem-w2.fabric-testbed.net        2      8      10  default_ubuntu_20  2620:103:a006:12:f816:3eff:fe44:9955    Active\n",
      "8a975c4d-e631-4d8f-b924-52d7bf3cc280  client-host    DALL    dall-w2.fabric-testbed.net        2      8      10  default_ubuntu_20  2001:400:a100:3000:f816:3eff:fe36:5f8e  Active\n",
      "Error: Timeout 600 sec exceeded in Jupyter wait\n"
     ]
    },
    {
     "name": "stderr",
     "output_type": "stream",
     "text": [
      "Traceback (most recent call last):\n",
      "  File \"/tmp/ipykernel_208/3668902574.py\", line 28, in <module>\n",
      "    slice.submit()\n",
      "  File \"/opt/conda/lib/python3.9/site-packages/fabrictestbed_extensions/fablib/slice.py\", line 1224, in submit\n",
      "    self.wait_jupyter(timeout=wait_timeout, interval=wait_interval)\n",
      "  File \"/opt/conda/lib/python3.9/site-packages/fabrictestbed_extensions/fablib/slice.py\", line 1153, in wait_jupyter\n",
      "    raise Exception(f\"Timeout {timeout} sec exceeded in Jupyter wait\")\n",
      "Exception: Timeout 600 sec exceeded in Jupyter wait\n"
     ]
    }
   ],
   "source": [
    "try:\n",
    "  # create the slice\n",
    "  slice = fablib.new_slice(name=slice_name)\n",
    "\n",
    "  # add server switch\n",
    "  server_switch = slice.add_node(name=server_switch_name, site=server_site, image=image, cores=switch_cores, ram=switch_ram, disk=switch_disk)\n",
    "  server_switch_iface_host = server_switch.add_component(model='NIC_Basic', name=id('nic')).get_interfaces()[0]\n",
    "  server_switch_iface_client_switch = server_switch.add_component(model='NIC_Basic', name=id('nic')).get_interfaces()[0]\n",
    "\n",
    "  # add client switch\n",
    "  client_switch = slice.add_node(name=client_switch_name, site=client_site, image=image, cores=switch_cores, ram=switch_ram, disk=switch_disk)\n",
    "  client_switch_iface_host = client_switch.add_component(model='NIC_Basic', name=id('nic')).get_interfaces()[0]\n",
    "  client_switch_iface_server_switch = client_switch.add_component(model='NIC_Basic', name=id('nic')).get_interfaces()[0]\n",
    "\n",
    "  # add server host\n",
    "  server_host = slice.add_node(name=server_host_name, site=server_site, image=image)\n",
    "  server_host_iface = server_host.add_component(model='NIC_Basic', name=id('nic')).get_interfaces()[0]\n",
    "\n",
    "  # add client host\n",
    "  client_host = slice.add_node(name=client_host_name, site=client_site, image=image)\n",
    "  client_host_iface = client_host.add_component(model='NIC_Basic', name=id('nic')).get_interfaces()[0]\n",
    "\n",
    "  # add networks\n",
    "  server_switch_net = slice.add_l2network(name=server_switch_net_name, interfaces=[server_switch_iface_host, server_host_iface])\n",
    "  client_switch_net = slice.add_l2network(name=client_switch_net_name, interfaces=[client_switch_iface_host, client_host_iface])\n",
    "  switch_switch_net = slice.add_l2network(name=switch_switch_net_name, interfaces=[server_switch_iface_client_switch, client_switch_iface_server_switch])\n",
    "\n",
    "  slice.submit()\n",
    "except Exception as e:\n",
    "    print(f\"Error: {e}\")\n",
    "    traceback.print_exc()\n"
   ]
  }
 ],
 "metadata": {
  "kernelspec": {
   "display_name": "Python 3 (ipykernel)",
   "language": "python",
   "name": "python3"
  },
  "language_info": {
   "codemirror_mode": {
    "name": "ipython",
    "version": 3
   },
   "file_extension": ".py",
   "mimetype": "text/x-python",
   "name": "python",
   "nbconvert_exporter": "python",
   "pygments_lexer": "ipython3",
   "version": "3.9.7"
  },
  "orig_nbformat": 4,
  "vscode": {
   "interpreter": {
    "hash": "b0fa6594d8f4cbf19f97940f81e996739fb7646882a419484c72d19e05852a7e"
   }
  }
 },
 "nbformat": 4,
 "nbformat_minor": 2
}
